{
  "cells": [
    {
      "cell_type": "markdown",
      "metadata": {},
      "source": [
        "# Creación de DataFrames (Tablas Tidy)"
      ]
    },
    {
      "cell_type": "code",
      "execution_count": 2,
      "metadata": {
        "colab": {
          "base_uri": "https://localhost:8080/"
        },
        "id": "UHx2_ZGJQiKZ",
        "outputId": "6f80e15c-8913-497b-c065-0311b56ee08d"
      },
      "outputs": [
        {
          "name": "stdout",
          "output_type": "stream",
          "text": [
            "Requirement already satisfied: pandas in c:\\users\\lordm\\appdata\\local\\programs\\python\\python312\\lib\\site-packages (2.1.1)\n",
            "Requirement already satisfied: openpyxl in c:\\users\\lordm\\appdata\\local\\programs\\python\\python312\\lib\\site-packages (3.1.2)\n",
            "Requirement already satisfied: requests in c:\\users\\lordm\\appdata\\local\\programs\\python\\python312\\lib\\site-packages (2.31.0)\n",
            "Requirement already satisfied: beautifulsoup4 in c:\\users\\lordm\\appdata\\local\\programs\\python\\python312\\lib\\site-packages (4.12.2)\n",
            "Requirement already satisfied: numpy>=1.26.0 in c:\\users\\lordm\\appdata\\local\\programs\\python\\python312\\lib\\site-packages (from pandas) (1.26.0)\n",
            "Requirement already satisfied: python-dateutil>=2.8.2 in c:\\users\\lordm\\appdata\\roaming\\python\\python312\\site-packages (from pandas) (2.8.2)\n",
            "Requirement already satisfied: pytz>=2020.1 in c:\\users\\lordm\\appdata\\local\\programs\\python\\python312\\lib\\site-packages (from pandas) (2023.3.post1)\n",
            "Requirement already satisfied: tzdata>=2022.1 in c:\\users\\lordm\\appdata\\local\\programs\\python\\python312\\lib\\site-packages (from pandas) (2023.3)\n",
            "Requirement already satisfied: et-xmlfile in c:\\users\\lordm\\appdata\\local\\programs\\python\\python312\\lib\\site-packages (from openpyxl) (1.1.0)\n",
            "Requirement already satisfied: charset-normalizer<4,>=2 in c:\\users\\lordm\\appdata\\local\\programs\\python\\python312\\lib\\site-packages (from requests) (3.3.0)\n",
            "Requirement already satisfied: idna<4,>=2.5 in c:\\users\\lordm\\appdata\\local\\programs\\python\\python312\\lib\\site-packages (from requests) (3.4)\n",
            "Requirement already satisfied: urllib3<3,>=1.21.1 in c:\\users\\lordm\\appdata\\local\\programs\\python\\python312\\lib\\site-packages (from requests) (2.0.6)\n",
            "Requirement already satisfied: certifi>=2017.4.17 in c:\\users\\lordm\\appdata\\local\\programs\\python\\python312\\lib\\site-packages (from requests) (2023.7.22)\n",
            "Requirement already satisfied: soupsieve>1.2 in c:\\users\\lordm\\appdata\\local\\programs\\python\\python312\\lib\\site-packages (from beautifulsoup4) (2.5)\n",
            "Requirement already satisfied: six>=1.5 in c:\\users\\lordm\\appdata\\roaming\\python\\python312\\site-packages (from python-dateutil>=2.8.2->pandas) (1.16.0)\n",
            "Note: you may need to restart the kernel to use updated packages.\n"
          ]
        },
        {
          "name": "stderr",
          "output_type": "stream",
          "text": [
            "\n",
            "[notice] A new release of pip is available: 23.2.1 -> 23.3.1\n",
            "[notice] To update, run: python.exe -m pip install --upgrade pip\n"
          ]
        },
        {
          "name": "stdout",
          "output_type": "stream",
          "text": [
            "Requirement already satisfied: wget in c:\\users\\lordm\\appdata\\local\\programs\\python\\python312\\lib\\site-packages (3.2)\n",
            "Note: you may need to restart the kernel to use updated packages.\n"
          ]
        },
        {
          "name": "stderr",
          "output_type": "stream",
          "text": [
            "\n",
            "[notice] A new release of pip is available: 23.2.1 -> 23.3.1\n",
            "[notice] To update, run: python.exe -m pip install --upgrade pip\n"
          ]
        },
        {
          "name": "stdout",
          "output_type": "stream",
          "text": [
            "Requirement already satisfied: gdown in c:\\users\\lordm\\appdata\\local\\programs\\python\\python312\\lib\\site-packages (4.7.1)\n",
            "Requirement already satisfied: filelock in c:\\users\\lordm\\appdata\\local\\programs\\python\\python312\\lib\\site-packages (from gdown) (3.12.4)\n",
            "Requirement already satisfied: requests[socks] in c:\\users\\lordm\\appdata\\local\\programs\\python\\python312\\lib\\site-packages (from gdown) (2.31.0)\n",
            "Requirement already satisfied: six in c:\\users\\lordm\\appdata\\roaming\\python\\python312\\site-packages (from gdown) (1.16.0)\n",
            "Requirement already satisfied: tqdm in c:\\users\\lordm\\appdata\\local\\programs\\python\\python312\\lib\\site-packages (from gdown) (4.66.1)\n",
            "Requirement already satisfied: beautifulsoup4 in c:\\users\\lordm\\appdata\\local\\programs\\python\\python312\\lib\\site-packages (from gdown) (4.12.2)\n",
            "Requirement already satisfied: soupsieve>1.2 in c:\\users\\lordm\\appdata\\local\\programs\\python\\python312\\lib\\site-packages (from beautifulsoup4->gdown) (2.5)\n",
            "Requirement already satisfied: charset-normalizer<4,>=2 in c:\\users\\lordm\\appdata\\local\\programs\\python\\python312\\lib\\site-packages (from requests[socks]->gdown) (3.3.0)\n",
            "Requirement already satisfied: idna<4,>=2.5 in c:\\users\\lordm\\appdata\\local\\programs\\python\\python312\\lib\\site-packages (from requests[socks]->gdown) (3.4)\n",
            "Requirement already satisfied: urllib3<3,>=1.21.1 in c:\\users\\lordm\\appdata\\local\\programs\\python\\python312\\lib\\site-packages (from requests[socks]->gdown) (2.0.6)\n",
            "Requirement already satisfied: certifi>=2017.4.17 in c:\\users\\lordm\\appdata\\local\\programs\\python\\python312\\lib\\site-packages (from requests[socks]->gdown) (2023.7.22)\n",
            "Requirement already satisfied: PySocks!=1.5.7,>=1.5.6 in c:\\users\\lordm\\appdata\\local\\programs\\python\\python312\\lib\\site-packages (from requests[socks]->gdown) (1.7.1)\n",
            "Requirement already satisfied: colorama in c:\\users\\lordm\\appdata\\roaming\\python\\python312\\site-packages (from tqdm->gdown) (0.4.6)\n",
            "Note: you may need to restart the kernel to use updated packages.\n"
          ]
        },
        {
          "name": "stderr",
          "output_type": "stream",
          "text": [
            "\n",
            "[notice] A new release of pip is available: 23.2.1 -> 23.3.1\n",
            "[notice] To update, run: python.exe -m pip install --upgrade pip\n"
          ]
        },
        {
          "name": "stdout",
          "output_type": "stream",
          "text": [
            "Requirement already satisfied: unidecode in c:\\users\\lordm\\appdata\\local\\programs\\python\\python312\\lib\\site-packages (1.3.7)Note: you may need to restart the kernel to use updated packages.\n"
          ]
        },
        {
          "name": "stderr",
          "output_type": "stream",
          "text": [
            "\n",
            "[notice] A new release of pip is available: 23.2.1 -> 23.3.1\n",
            "[notice] To update, run: python.exe -m pip install --upgrade pip\n"
          ]
        },
        {
          "name": "stdout",
          "output_type": "stream",
          "text": [
            "\n"
          ]
        }
      ],
      "source": [
        "# Instalando las paqueterías necesarias.\n",
        "%pip install pandas openpyxl requests beautifulsoup4\n",
        "%pip install wget\n",
        "%pip install gdown\n",
        "%pip install unidecode"
      ]
    },
    {
      "cell_type": "markdown",
      "metadata": {
        "id": "WlT8D8oM1f2p"
      },
      "source": [
        "Las siguientes librerías nos ayudaran para el proceso de limpieza, creación de tablas tidy y generación del archivo txt.\n",
        "\n",
        "Se utiliza librería unicode, para poder quitar los acentos de ciertas palabras y usarlo como nombre de archivos a descargar."
      ]
    },
    {
      "cell_type": "code",
      "execution_count": 3,
      "metadata": {
        "id": "gY6pHKnxVf02"
      },
      "outputs": [],
      "source": [
        "# Importación de librerías para usarlas en el proyecto de descarga y generación del txt con la descripción de esta\n",
        "import pandas as pd\n",
        "import re\n",
        "import os\n",
        "import time\n",
        "import numpy as np\n",
        "from bs4 import BeautifulSoup\n",
        "from datetime import datetime\n",
        "from logging import exception\n",
        "from unidecode import unidecode\n",
        "from datetime import datetime, timedelta"
      ]
    },
    {
      "cell_type": "markdown",
      "metadata": {
        "id": "WrKBE0zm2OZK"
      },
      "source": [
        "La inicialización de ciertas variables ayudaran a preparar la información inicial de cada una de ellas, además de que puedan ser usadas en cualquier parte del código o proceso, sin en el que perjudique el ámbito o espacio donde estas estén siendo seteadas."
      ]
    },
    {
      "cell_type": "code",
      "execution_count": 12,
      "metadata": {
        "id": "vB3CEL3HoRBp"
      },
      "outputs": [],
      "source": [
        "# Inicializando variables que serán usadas más adelante\n",
        "\n",
        "incidencia_clima_link = 'https://open-meteo.com/en/docs/historical-weather-api'\n",
        "incidencia_title = ''\n",
        "incidencia_description = ''\n",
        "\n",
        "folder_path_data = '../rawdata'\n",
        "folder_path_tidy_data = '../tidydata'\n",
        "folder_path_log = '../logs/descarga/'\n",
        "folder_path_error_log = '../logs/errores/'\n",
        "csv_filepath = ''\n",
        "\n",
        "# Creando variable que contendra el listado de cada source descargado.\n",
        "sources_list = []\n",
        "\n",
        "# Creando variable que contendra el listado de cada nombre de archivo descargado y que esta siendo enviado a nuestro repositorio\n",
        "names_files_list = []\n",
        "\n",
        "texto_list = ''\n",
        "\n",
        "mes = ['Enero', 'Febrero', 'Marzo', 'Abril', 'Mayo', 'Junio',\n",
        "         'Julio', 'Agosto', 'Septiembre', 'Octubre', 'Noviembre', 'Diciembre']"
      ]
    },
    {
      "cell_type": "markdown",
      "metadata": {},
      "source": [
        "#### Sección donde se encuentran las funciones generales del proceso"
      ]
    },
    {
      "cell_type": "code",
      "execution_count": 5,
      "metadata": {},
      "outputs": [],
      "source": [
        "def log_error_write(description, line):\n",
        "    # Verificando si la carpeta existe, si no, crearla\n",
        "    if not os.path.exists(folder_path_error_log):\n",
        "        os.makedirs(folder_path_error_log)\n",
        "\n",
        "    date_now = datetime.now()\n",
        "\n",
        "    # Variable que contiene el texto que tendrá el archivo txt que se generará y descargará.\n",
        "    line_error = f\"\"\"{date_now.strftime('%Y-%m-%d %H:%M:%S')} {line} - {description}\"\"\"\n",
        "    # Se crea el archivo a partir del texto de arriba, el cual se guardará con el nombre descriptivo más la fecha día*mes*año, para identificar la descarga por día.\n",
        "    with open(f'{folder_path_error_log}/ddf_err{date_now.strftime(\"%d%m%y\")}.txt', 'a', encoding=\"utf-8\") as error_file:\n",
        "        error_file.write(f\"\\n{line_error}\")\n",
        "\n",
        "def log_write(description, line):\n",
        "    # Verificando si la carpeta existe, si no, crearla\n",
        "    if not os.path.exists(folder_path_log):\n",
        "        os.makedirs(folder_path_log)\n",
        "\n",
        "    date_now = datetime.now()\n",
        "\n",
        "    # Variable que contiene el texto que tendrá el archivo txt que se generará y descargará.\n",
        "    line_write = f\"\"\"{date_now.strftime('%Y-%m-%d %H:%M:%S')} {line} - {description}\"\"\"\n",
        "    # Se crea el archivo a partir del texto de arriba, el cual se guardará con el nombre descriptivo más la fecha día*mes*año, para identificar la descarga por día.\n",
        "    with open(f'{folder_path_log}/muncoord{date_now.strftime(\"%d%m%y\")}.txt', 'a', encoding=\"utf-8\") as write_file:\n",
        "        write_file.write(f\"\\n{line_write}\")\n",
        "\n",
        "\n",
        "def create_csv_from_DataFrame(df, csv_filename):\n",
        "    try:\n",
        "\n",
        "        # Construyendo la ruta completa del archivo\n",
        "        csv_filepath = os.path.join(folder_path_tidy_data, csv_filename)\n",
        "\n",
        "        # Guardando el DataFrame como un archivo CSV\n",
        "        df.to_csv(csv_filepath, index=False, encoding='utf-8')\n",
        "        print(f\"DataFrame (tabla tidy) guardado exitosamente en {csv_filepath}\")\n",
        "\n",
        "    except Exception as e:\n",
        "        # Imprimiendo un mensaje de error en caso de excepción\n",
        "        log_error_write(f\"Error al guardar el DataFrame (tabla tidy) como CSV: {e}\", 'create_csv_from_DataFrame')\n",
        "        print(f\"Error al guardar el DataFrame como CSV: {e}\")"
      ]
    },
    {
      "cell_type": "markdown",
      "metadata": {},
      "source": [
        "#### Obtención de datos de las regiones de sonora que esta relacionado con los municipios"
      ]
    },
    {
      "cell_type": "code",
      "execution_count": 6,
      "metadata": {},
      "outputs": [],
      "source": [
        "try:\n",
        "    municipios_regiones = pd.read_csv(f'{folder_path_data}/municipios_regiones.csv')\n",
        "    municipios_regiones.rename(columns = {'Municipio': 'municipio'}, inplace = True)\n",
        "except Exception as e:\n",
        "    # Imprimiendo un mensaje de error en caso de excepción\n",
        "    log_error_write(f\"Error al leer el archivo CSV: {e}\", 'Lectura de las regiones de municipios')\n",
        "    print(f\"Error al leer el archivo CSV: {e}\")"
      ]
    },
    {
      "cell_type": "markdown",
      "metadata": {
        "id": "kh9MatCA7mQ-"
      },
      "source": [
        "## Primer DataFrame: Incidencia Delictiva a Nivel Estatal"
      ]
    },
    {
      "cell_type": "markdown",
      "metadata": {},
      "source": [
        "#### Obtención de datos de incidencia delicitiva a nivel estatal"
      ]
    },
    {
      "cell_type": "code",
      "execution_count": 266,
      "metadata": {
        "colab": {
          "base_uri": "https://localhost:8080/"
        },
        "id": "0IlHV1IA__Yr",
        "outputId": "fdf4eba1-1365-44c6-c515-e249aca0608d"
      },
      "outputs": [],
      "source": [
        "try:\n",
        "    # Leemos el archivos csv para obtener el dataframe original\n",
        "    Incidencia_Delictiva_Estatal_df = pd.read_csv(f'{folder_path_data}/CifrasdeIncidenciaDelictivaEstatal2015agosto2023.csv')\n",
        "    Incidencia_Delictiva_Estatal_df.columns\n",
        "except Exception as e:\n",
        "    # Imprimiendo un mensaje de error en caso de excepción\n",
        "    log_error_write(f\"Error al leer el archivo CSV: {e}\", 'Lectura de CifrasdeIncidenciaDelictivaEstatal2015agosto2023')\n",
        "    print(f\"Error al leer el archivo CSV: {e}\")"
      ]
    },
    {
      "cell_type": "markdown",
      "metadata": {},
      "source": [
        "#### Primer proceso de limpieza y reorganización de la estructura original para crear la tabla tidy correspondiente"
      ]
    },
    {
      "cell_type": "code",
      "execution_count": 267,
      "metadata": {
        "colab": {
          "base_uri": "https://localhost:8080/"
        },
        "id": "GZbVJkiyiYP0",
        "outputId": "0cee467b-caf4-4ef2-b6dc-4a8aebb17779"
      },
      "outputs": [
        {
          "name": "stdout",
          "output_type": "stream",
          "text": [
            "Columna Año: False\n",
            "Columna Entidad: False\n",
            "Columna Bien jurídico afectado: False\n",
            "Columna Tipo de delito: False\n",
            "Columna Subtipo de delito: False\n",
            "Columna Modalidad: False\n",
            "Columna Mes: False\n",
            "Columna Número de delitos: True\n"
          ]
        }
      ],
      "source": [
        "try:\n",
        "  if not Incidencia_Delictiva_Estatal_df.empty:\n",
        "    Incidencia_Delictiva_Estatal_df = Incidencia_Delictiva_Estatal_df.reset_index()\n",
        "\n",
        "    # Obtenemos los datos referentes al estado de Sonora y pasamos de un formato wide a uno long\n",
        "    Incidencia_Delictiva_Estatal_df = Incidencia_Delictiva_Estatal_df[Incidencia_Delictiva_Estatal_df['Entidad'] == 'Sonora']\n",
        "    Incidencia_Delictiva_Estatal_df = pd.melt(Incidencia_Delictiva_Estatal_df, id_vars = list(Incidencia_Delictiva_Estatal_df.columns[0:8]), value_vars = mes, var_name = 'Mes', value_name = 'Número de delitos')\n",
        "    Incidencia_Delictiva_Estatal_df = Incidencia_Delictiva_Estatal_df.drop('index', axis = 1)\n",
        "    Incidencia_Delictiva_Estatal_df = Incidencia_Delictiva_Estatal_df.drop(['Clave_Ent'], axis=1)\n",
        "\n",
        "    # Checamos que columnas tienen valores faltantes\n",
        "    for column in Incidencia_Delictiva_Estatal_df.columns:\n",
        "      print(f'Columna {column}: ' + str(Incidencia_Delictiva_Estatal_df[column].isnull().values.any()))\n",
        "  else:\n",
        "      log_error_write(f\"DataFrame leido vacio\", 'Limpieza Incidencia_Delictiva_Estatal_df')\n",
        "      print(f\"DataFrame leido vacio\")\n",
        "except Exception as e:\n",
        "    # Imprimiendo un mensaje de error en caso de excepción\n",
        "    log_error_write(f\"Error en la limpieza de dataframe: {e}\", 'Limpieza Incidencia_Delictiva_Estatal_df 1')\n",
        "    print(f\"Error en la limpieza de dataframe: {e}\")"
      ]
    },
    {
      "cell_type": "markdown",
      "metadata": {},
      "source": [
        "#### Segundo proceso de limpieza y reorganización de la estructura de la tabla tidy"
      ]
    },
    {
      "cell_type": "code",
      "execution_count": 221,
      "metadata": {
        "id": "ZvYFtJJeAnw_"
      },
      "outputs": [],
      "source": [
        "try:\n",
        "  if not Incidencia_Delictiva_Estatal_df.empty:\n",
        "    # Quitamos observaciones en el futuro o no registradas, esto es, observaciones de los meses de Septiembre, Octubre, NOviembre\n",
        "    # y Diciembre del año 2023.\n",
        "    Incidencia_Delictiva_Estatal_df = Incidencia_Delictiva_Estatal_df.drop(Incidencia_Delictiva_Estatal_df[Incidencia_Delictiva_Estatal_df['Mes'].isin(['Septiembre', 'Octubre', 'Noviembre', 'Diciembre']) & (Incidencia_Delictiva_Estatal_df['Año'].astype('string') == '2023')].index)\n",
        "    #Se hace reenombramiento de las distintas columnas de la tabla tidy para que tenga un formato estandar entre todas las demas tablas tidy\n",
        "    Incidencia_Delictiva_Estatal_df.rename(columns = {'Año': 'anio'}, inplace = True)\n",
        "    Incidencia_Delictiva_Estatal_df.rename(columns = {'Mes': 'mes'}, inplace = True)\n",
        "    Incidencia_Delictiva_Estatal_df.rename(columns = {'Entidad': 'entidad'}, inplace = True)\n",
        "    Incidencia_Delictiva_Estatal_df.rename(columns = {'Bien jurídico afectado': 'bien_juridico_afectado'}, inplace = True)\n",
        "    Incidencia_Delictiva_Estatal_df.rename(columns = {'Tipo de delito': 'tipo_delito'}, inplace = True)\n",
        "    Incidencia_Delictiva_Estatal_df.rename(columns = {'Subtipo de delito': 'subtipo_delito'}, inplace = True)\n",
        "    Incidencia_Delictiva_Estatal_df.rename(columns = {'Modalidad': 'modalidad'}, inplace = True)     \n",
        "    Incidencia_Delictiva_Estatal_df.rename(columns = {'Número de delitos': 'numero_delitos'}, inplace = True)\n",
        "\n",
        "    Incidencia_Delictiva_Estatal_df['numero_delitos'] = Incidencia_Delictiva_Estatal_df['numero_delitos'].round(2).astype(float)\n",
        "    Incidencia_Delictiva_Estatal_df.insert(1, 'mes', Incidencia_Delictiva_Estatal_df.pop('mes'))\n",
        "  else:\n",
        "      log_error_write(f\"DataFrame leido vacio\", 'Limpieza Incidencia_Delictiva_Estatal_df')\n",
        "      print(f\"DataFrame leido vacio\")\n",
        "except Exception as e:\n",
        "    # Imprimiendo un mensaje de error en caso de excepción\n",
        "    log_error_write(f\"Error en la limpieza de dataframe: {e}\", 'Limpieza Incidencia_Delictiva_Estatal_df_ 2')\n",
        "    print(f\"Error en la limpieza de dataframe: {e}\")"
      ]
    },
    {
      "cell_type": "code",
      "execution_count": 278,
      "metadata": {
        "colab": {
          "base_uri": "https://localhost:8080/"
        },
        "id": "ZKPgt7hvoW8x",
        "outputId": "526198f1-8ca2-43af-baa6-659d07509279"
      },
      "outputs": [
        {
          "name": "stdout",
          "output_type": "stream",
          "text": [
            "(10584, 8)\n"
          ]
        }
      ],
      "source": [
        "if not Incidencia_Delictiva_Estatal_df.empty:\n",
        "    print(Incidencia_Delictiva_Estatal_df.shape)"
      ]
    },
    {
      "cell_type": "code",
      "execution_count": 224,
      "metadata": {
        "colab": {
          "base_uri": "https://localhost:8080/"
        },
        "id": "kCSByk-i6sBM",
        "outputId": "b7c21aad-daa0-4805-a013-25b89d2ab4c4"
      },
      "outputs": [
        {
          "name": "stdout",
          "output_type": "stream",
          "text": [
            "Columna anio: False\n",
            "Columna mes: False\n",
            "Columna entidad: False\n",
            "Columna bien_juridico_afectado: False\n",
            "Columna tipo_delito: False\n",
            "Columna subtipo_delito: False\n",
            "Columna modalidad: False\n",
            "Columna numero_delitos: False\n"
          ]
        }
      ],
      "source": [
        "try:\n",
        "  if not Incidencia_Delictiva_Estatal_df.empty:\n",
        "    # Checamos nuevamente si existen datos faltantes\n",
        "    for column in Incidencia_Delictiva_Estatal_df.columns:\n",
        "      print(f'Columna {column}: ' + str(Incidencia_Delictiva_Estatal_df[column].isnull().values.any()))\n",
        "  else:\n",
        "      log_error_write(f\"DataFrame leido vacio\", 'Lectura vacios de Incidencia_Delictiva_Estatal_df')\n",
        "      print(f\"DataFrame leido vacio\")\n",
        "except Exception as e:\n",
        "    # Imprimiendo un mensaje de error en caso de excepción\n",
        "    log_error_write(f\"Error en la lectura de dataframe: {e}\", 'Lectura vacios de Incidencia_Delictiva_Estatal_df')\n",
        "    print(f\"Error en la lectura de dataframe: {e}\")"
      ]
    },
    {
      "cell_type": "markdown",
      "metadata": {},
      "source": [
        "#### Generacion de archivo que contiene los datos de la tabla tidy Incidencia_Delictiva_Estatal"
      ]
    },
    {
      "cell_type": "code",
      "execution_count": 225,
      "metadata": {},
      "outputs": [
        {
          "name": "stdout",
          "output_type": "stream",
          "text": [
            "DataFrame (tabla tidy) guardado exitosamente en ../tidydata\\Incidencia_Delictiva_Estatal.csv\n"
          ]
        }
      ],
      "source": [
        "try:\n",
        "  if not Incidencia_Delictiva_Estatal_df.empty:\n",
        "    create_csv_from_DataFrame(Incidencia_Delictiva_Estatal_df, f'Incidencia_Delictiva_Estatal.csv')\n",
        "  else:\n",
        "      log_error_write(f\"DataFrame leido vacio\", 'Lectura vacios de Incidencia_Delictiva_Estatal_df')\n",
        "      print(f\"DataFrame leido vacio\")\n",
        "except Exception as e:\n",
        "    # Imprimiendo un mensaje de error en caso de excepción\n",
        "    log_error_write(f\"Error creacion de archivo csv: {e}\", 'creacion archivo tabla tidy Incidencia_Delictiva_Estatal')\n",
        "    print(f\"Error creacion de archivo csv: {e}\")"
      ]
    },
    {
      "cell_type": "code",
      "execution_count": 226,
      "metadata": {},
      "outputs": [
        {
          "data": {
            "text/html": [
              "<div>\n",
              "<style scoped>\n",
              "    .dataframe tbody tr th:only-of-type {\n",
              "        vertical-align: middle;\n",
              "    }\n",
              "\n",
              "    .dataframe tbody tr th {\n",
              "        vertical-align: top;\n",
              "    }\n",
              "\n",
              "    .dataframe thead th {\n",
              "        text-align: right;\n",
              "    }\n",
              "</style>\n",
              "<table border=\"1\" class=\"dataframe\">\n",
              "  <thead>\n",
              "    <tr style=\"text-align: right;\">\n",
              "      <th></th>\n",
              "      <th>anio</th>\n",
              "      <th>mes</th>\n",
              "      <th>entidad</th>\n",
              "      <th>bien_juridico_afectado</th>\n",
              "      <th>tipo_delito</th>\n",
              "      <th>subtipo_delito</th>\n",
              "      <th>modalidad</th>\n",
              "      <th>numero_delitos</th>\n",
              "    </tr>\n",
              "  </thead>\n",
              "  <tbody>\n",
              "    <tr>\n",
              "      <th>0</th>\n",
              "      <td>2015</td>\n",
              "      <td>Enero</td>\n",
              "      <td>Sonora</td>\n",
              "      <td>La vida y la Integridad corporal</td>\n",
              "      <td>Homicidio</td>\n",
              "      <td>Homicidio doloso</td>\n",
              "      <td>Con arma de fuego</td>\n",
              "      <td>23.0</td>\n",
              "    </tr>\n",
              "    <tr>\n",
              "      <th>1</th>\n",
              "      <td>2015</td>\n",
              "      <td>Enero</td>\n",
              "      <td>Sonora</td>\n",
              "      <td>La vida y la Integridad corporal</td>\n",
              "      <td>Homicidio</td>\n",
              "      <td>Homicidio doloso</td>\n",
              "      <td>Con arma blanca</td>\n",
              "      <td>4.0</td>\n",
              "    </tr>\n",
              "    <tr>\n",
              "      <th>2</th>\n",
              "      <td>2015</td>\n",
              "      <td>Enero</td>\n",
              "      <td>Sonora</td>\n",
              "      <td>La vida y la Integridad corporal</td>\n",
              "      <td>Homicidio</td>\n",
              "      <td>Homicidio doloso</td>\n",
              "      <td>Con otro elemento</td>\n",
              "      <td>9.0</td>\n",
              "    </tr>\n",
              "    <tr>\n",
              "      <th>3</th>\n",
              "      <td>2015</td>\n",
              "      <td>Enero</td>\n",
              "      <td>Sonora</td>\n",
              "      <td>La vida y la Integridad corporal</td>\n",
              "      <td>Homicidio</td>\n",
              "      <td>Homicidio doloso</td>\n",
              "      <td>No especificado</td>\n",
              "      <td>0.0</td>\n",
              "    </tr>\n",
              "    <tr>\n",
              "      <th>4</th>\n",
              "      <td>2015</td>\n",
              "      <td>Enero</td>\n",
              "      <td>Sonora</td>\n",
              "      <td>La vida y la Integridad corporal</td>\n",
              "      <td>Homicidio</td>\n",
              "      <td>Homicidio culposo</td>\n",
              "      <td>Con arma de fuego</td>\n",
              "      <td>0.0</td>\n",
              "    </tr>\n",
              "  </tbody>\n",
              "</table>\n",
              "</div>"
            ],
            "text/plain": [
              "   anio    mes entidad            bien_juridico_afectado tipo_delito  \\\n",
              "0  2015  Enero  Sonora  La vida y la Integridad corporal   Homicidio   \n",
              "1  2015  Enero  Sonora  La vida y la Integridad corporal   Homicidio   \n",
              "2  2015  Enero  Sonora  La vida y la Integridad corporal   Homicidio   \n",
              "3  2015  Enero  Sonora  La vida y la Integridad corporal   Homicidio   \n",
              "4  2015  Enero  Sonora  La vida y la Integridad corporal   Homicidio   \n",
              "\n",
              "      subtipo_delito          modalidad  numero_delitos  \n",
              "0   Homicidio doloso  Con arma de fuego            23.0  \n",
              "1   Homicidio doloso    Con arma blanca             4.0  \n",
              "2   Homicidio doloso  Con otro elemento             9.0  \n",
              "3   Homicidio doloso    No especificado             0.0  \n",
              "4  Homicidio culposo  Con arma de fuego             0.0  "
            ]
          },
          "execution_count": 226,
          "metadata": {},
          "output_type": "execute_result"
        }
      ],
      "source": [
        "Incidencia_Delictiva_Estatal_df.head()"
      ]
    },
    {
      "cell_type": "markdown",
      "metadata": {
        "id": "ttSlzXDq7ZBK"
      },
      "source": [
        "## Segundo DataFrame: Incidencia delictiva a nivel municipal 2015-2023"
      ]
    },
    {
      "cell_type": "markdown",
      "metadata": {},
      "source": [
        "#### Obtención de datos de incidencia delicitiva a nivel municipal"
      ]
    },
    {
      "cell_type": "code",
      "execution_count": 270,
      "metadata": {
        "colab": {
          "base_uri": "https://localhost:8080/",
          "height": 551
        },
        "id": "1y7jSvewP9nC",
        "outputId": "d08b4954-5c58-4403-9249-66518306c8b8"
      },
      "outputs": [],
      "source": [
        "try:\n",
        "    # Leemos el archivos csv para obtener el dataframe original\n",
        "    Incidencia_Delictiva_Municipal_df = pd.read_csv(f'{folder_path_data}/CifrasdeIncidenciaDelictivaMunicipal2015agosto2023.csv')\n",
        "    Incidencia_Delictiva_Municipal_df.head()\n",
        "except Exception as e:\n",
        "    # Imprimiendo un mensaje de error en caso de excepción\n",
        "    log_error_write(f\"Error al leer el archivo CSV: {e}\", 'Lectura de CifrasdeIncidenciaDelictivaMunicipal2015agosto2023')\n",
        "    print(f\"Error al leer el archivo CSV: {e}\")"
      ]
    },
    {
      "cell_type": "markdown",
      "metadata": {},
      "source": [
        "#### Primer proceso de limpieza y reorganización de la estructura original para crear la tabla tidy correspondiente"
      ]
    },
    {
      "cell_type": "code",
      "execution_count": 271,
      "metadata": {
        "colab": {
          "base_uri": "https://localhost:8080/"
        },
        "id": "vW40ZKUtGtuz",
        "outputId": "e972c632-f492-44e3-9497-806c0f102f8d"
      },
      "outputs": [
        {
          "name": "stdout",
          "output_type": "stream",
          "text": [
            "Columna Año: False\n",
            "Columna Clave_Ent: False\n",
            "Columna Entidad: False\n",
            "Columna Cve. Municipio: False\n",
            "Columna Municipio: False\n",
            "Columna Bien jurídico afectado: False\n",
            "Columna Tipo de delito: False\n",
            "Columna Subtipo de delito: False\n",
            "Columna Modalidad: False\n",
            "Columna Mes: False\n",
            "Columna Número de delitos: True\n"
          ]
        }
      ],
      "source": [
        "try:\n",
        "  if not Incidencia_Delictiva_Municipal_df.empty:\n",
        "    # Obtenemos un DataFrame para el estado de Sonora\n",
        "    Incidencia_Delictiva_Municipal_df2s = Incidencia_Delictiva_Municipal_df[Incidencia_Delictiva_Municipal_df['Entidad'] == 'Sonora']\n",
        "    Incidencia_Delictiva_Municipal_df2s = Incidencia_Delictiva_Municipal_df2s.reset_index()\n",
        "    Incidencia_Delictiva_Municipal_df2s = pd.melt(Incidencia_Delictiva_Municipal_df2s, id_vars = list(Incidencia_Delictiva_Municipal_df.columns[0:9]), value_vars = mes, var_name = 'Mes', value_name = 'Número de delitos')\n",
        "\n",
        "    for column in Incidencia_Delictiva_Municipal_df2s.columns:\n",
        "      print(f'Columna {column}: ' + str(Incidencia_Delictiva_Municipal_df2s[column].isnull().values.any()))\n",
        "  else:\n",
        "      log_error_write(f\"DataFrame leido vacio\", 'Lectura vacios de Incidencia_Delictiva_Municipal_df')\n",
        "      print(f\"DataFrame leido vacio\")\n",
        "except Exception as e:\n",
        "    # Imprimiendo un mensaje de error en caso de excepción\n",
        "    log_error_write(f\"Error en la limpieza de dataframe: {e}\", 'Limpieza Incidencia_Delictiva_Municipal_df 1')\n",
        "    print(f\"Error en la limpieza de dataframe: {e}\")"
      ]
    },
    {
      "cell_type": "markdown",
      "metadata": {},
      "source": [
        "#### Segundo proceso de limpieza y reorganización de la estructura de la tabla tidy"
      ]
    },
    {
      "cell_type": "code",
      "execution_count": 272,
      "metadata": {
        "id": "zbhnG7ZtHWLt"
      },
      "outputs": [],
      "source": [
        "try:\n",
        "  if not Incidencia_Delictiva_Municipal_df.empty:\n",
        "    # Quitamos observaciones en el futuro o no registradas, esto es, observaciones de los meses de Septiembre, Octubre, NOviembre\n",
        "    # y Diciembre del año 2023.\n",
        "    Incidencia_Delictiva_Municipal_df2s = Incidencia_Delictiva_Municipal_df2s.drop(Incidencia_Delictiva_Municipal_df2s[Incidencia_Delictiva_Municipal_df2s['Mes'].isin(['Septiembre', 'Octubre', 'Noviembre', 'Diciembre']) & (Incidencia_Delictiva_Municipal_df2s['Año'].astype('string') == '2023')].index)\n",
        "\n",
        "    Incidencia_Delictiva_Municipal_df2s = Incidencia_Delictiva_Municipal_df2s.drop(['Clave_Ent'], axis=1)\n",
        "    Incidencia_Delictiva_Municipal_df2s = Incidencia_Delictiva_Municipal_df2s.drop(['Cve. Municipio'], axis=1)\n",
        "  else:\n",
        "      log_error_write(f\"DataFrame leido vacio\", 'Lectura vacios de Incidencia_Delictiva_Municipal_df')\n",
        "      print(f\"DataFrame leido vacio\")\n",
        "except Exception as e:\n",
        "    # Imprimiendo un mensaje de error en caso de excepción\n",
        "    log_error_write(f\"Error en la limpieza de dataframe: {e}\", 'Limpieza Incidencia_Delictiva_Municipal_df 2')\n",
        "    print(f\"Error en la limpieza de dataframe: {e}\")"
      ]
    },
    {
      "cell_type": "code",
      "execution_count": 276,
      "metadata": {
        "colab": {
          "base_uri": "https://localhost:8080/"
        },
        "id": "lpmjjjBqHlmo",
        "outputId": "37a6b307-9ddf-43ac-e0b4-596cda6bb4b0"
      },
      "outputs": [
        {
          "name": "stdout",
          "output_type": "stream",
          "text": [
            "(754208, 9)\n"
          ]
        }
      ],
      "source": [
        "if not Incidencia_Delictiva_Municipal_df.empty:\n",
        "    print(Incidencia_Delictiva_Municipal_df2s.shape)"
      ]
    },
    {
      "cell_type": "markdown",
      "metadata": {},
      "source": [
        "#### Tercer proceso de limpieza y reorganización de la estructura de la tabla tidy"
      ]
    },
    {
      "cell_type": "code",
      "execution_count": 240,
      "metadata": {},
      "outputs": [],
      "source": [
        "try:\n",
        "  if not Incidencia_Delictiva_Municipal_df.empty:\n",
        "    #print(Incidencia_Delictiva_Municipal_df2s[Incidencia_Delictiva_Municipal_df2s['Municipio'].str.contains('mich', case=False)])\n",
        "\n",
        "    #Se hace reenombramiento de las distintas columnas de la tabla tidy para que tenga un formato estandar entre todas las demas tablas tidy\n",
        "    Incidencia_Delictiva_Municipal_df2s.rename(columns = {'Año': 'anio'}, inplace = True)\n",
        "    Incidencia_Delictiva_Municipal_df2s.rename(columns = {'Mes': 'mes'}, inplace = True)\n",
        "    Incidencia_Delictiva_Municipal_df2s.rename(columns = {'Entidad': 'entidad'}, inplace = True)\n",
        "    Incidencia_Delictiva_Municipal_df2s.rename(columns = {'Municipio': 'municipio'}, inplace = True)\n",
        "    Incidencia_Delictiva_Municipal_df2s.rename(columns = {'Bien jurídico afectado': 'bien_juridico_afectado'}, inplace = True)\n",
        "    Incidencia_Delictiva_Municipal_df2s.rename(columns = {'Tipo de delito': 'tipo_delito'}, inplace = True)\n",
        "    Incidencia_Delictiva_Municipal_df2s.rename(columns = {'Subtipo de delito': 'subtipo_delito'}, inplace = True)\n",
        "    Incidencia_Delictiva_Municipal_df2s.rename(columns = {'Modalidad': 'modalidad'}, inplace = True)     \n",
        "    Incidencia_Delictiva_Municipal_df2s.rename(columns = {'Número de delitos': 'numero_delitos'}, inplace = True)\n",
        "\n",
        "    Incidencia_Delictiva_Municipal_df2s['numero_delitos'] = Incidencia_Delictiva_Municipal_df2s['numero_delitos'].round(2).astype(float)\n",
        "\n",
        "\n",
        "    # Normalizando las columnas en comun (municipio) antes de hacer el merge y agregar al columna region a la tabla tidy\n",
        "    Incidencia_Delictiva_Municipal_df2s['municipio_normalizada'] = Incidencia_Delictiva_Municipal_df2s['municipio'].apply(unidecode)\n",
        "    municipios_regiones['municipio_normalizada'] = municipios_regiones['municipio'].apply(unidecode)\n",
        "\n",
        "    Incidencia_Delictiva_Municipal_df2s = pd.merge(Incidencia_Delictiva_Municipal_df2s, municipios_regiones, on='municipio_normalizada', how='left')\n",
        "\n",
        "    Incidencia_Delictiva_Municipal_df2s.drop(['municipio_normalizada', 'municipio_y'], axis=1, inplace=True)\n",
        "    Incidencia_Delictiva_Municipal_df2s.rename(columns = {'municipio_x': 'municipio'}, inplace = True)\n",
        "    Incidencia_Delictiva_Municipal_df2s.rename(columns = {'Region': 'region'}, inplace = True)\n",
        "\n",
        "    Incidencia_Delictiva_Municipal_df2s.insert(1, 'mes', Incidencia_Delictiva_Municipal_df2s.pop('mes'))\n",
        "    Incidencia_Delictiva_Municipal_df2s.insert(3, 'region', Incidencia_Delictiva_Municipal_df2s.pop('region'))\n",
        "  else:\n",
        "      log_error_write(f\"DataFrame leido vacio\", 'Lectura vacios de Incidencia_Delictiva_Municipal_df')\n",
        "      print(f\"DataFrame leido vacio\")\n",
        "except Exception as e:\n",
        "    # Imprimiendo un mensaje de error en caso de excepción\n",
        "    log_error_write(f\"Error en la limpieza de dataframe: {e}\", 'Limpieza Incidencia_Delictiva_Municipal_df 3')\n",
        "    print(f\"Error en la limpieza de dataframe: {e}\")\n"
      ]
    },
    {
      "cell_type": "code",
      "execution_count": 241,
      "metadata": {
        "colab": {
          "base_uri": "https://localhost:8080/"
        },
        "id": "Ji8Tw7ji9q95",
        "outputId": "c3cbc96b-70b3-4ad3-bef9-c0e319cf3aa3"
      },
      "outputs": [
        {
          "name": "stdout",
          "output_type": "stream",
          "text": [
            "Columna anio: False\n",
            "Columna mes: False\n",
            "Columna entidad: False\n",
            "Columna region: True\n",
            "Columna municipio: False\n",
            "Columna bien_juridico_afectado: False\n",
            "Columna tipo_delito: False\n",
            "Columna subtipo_delito: False\n",
            "Columna modalidad: False\n",
            "Columna numero_delitos: False\n"
          ]
        }
      ],
      "source": [
        "try:\n",
        "  if not Incidencia_Delictiva_Municipal_df.empty:\n",
        "    # Verificamos si existen otros datos faltantes\n",
        "    for column in Incidencia_Delictiva_Municipal_df2s.columns:\n",
        "      print(f'Columna {column}: ' + str(Incidencia_Delictiva_Municipal_df2s[column].isnull().values.any()))\n",
        "\n",
        "  else:\n",
        "    log_error_write(f\"DataFrame leido vacio\", 'Lectura vacios de Incidencia_Delictiva_Municipal_df')\n",
        "    print(f\"DataFrame leido vacio\")\n",
        "except Exception as e:\n",
        "    # Imprimiendo un mensaje de error en caso de excepción\n",
        "    log_error_write(f\"Error en la lectura de dataframe: {e}\", 'Lectura vacios de Incidencia_Delictiva_Municipal_df')\n",
        "    print(f\"Error en la lectura de dataframe: {e}\")\n",
        "  "
      ]
    },
    {
      "cell_type": "markdown",
      "metadata": {},
      "source": [
        "#### Generacion de archivo que contiene los datos de la tabla tidy Incidencia_Delictiva_Municipal"
      ]
    },
    {
      "cell_type": "code",
      "execution_count": 242,
      "metadata": {},
      "outputs": [
        {
          "name": "stdout",
          "output_type": "stream",
          "text": [
            "DataFrame (tabla tidy) guardado exitosamente en ../tidydata\\Incidencia_Delictiva_Municipal.csv\n"
          ]
        }
      ],
      "source": [
        "try:\n",
        "  if not Incidencia_Delictiva_Municipal_df.empty:\n",
        "    create_csv_from_DataFrame(Incidencia_Delictiva_Municipal_df2s, f'Incidencia_Delictiva_Municipal.csv')\n",
        "  else:\n",
        "      log_error_write(f\"DataFrame leido vacio\", 'Lectura vacios de Incidencia_Delictiva_Municipal_df')\n",
        "      print(f\"DataFrame leido vacio\")\n",
        "except Exception as e:\n",
        "    # Imprimiendo un mensaje de error en caso de excepción\n",
        "    log_error_write(f\"Error creacion de archivo csv: {e}\", 'creacion archivo tabla tidy Incidencia_Delictiva_Municipal')\n",
        "    print(f\"Error creacion de archivo csv: {e}\")"
      ]
    },
    {
      "cell_type": "code",
      "execution_count": 243,
      "metadata": {},
      "outputs": [
        {
          "data": {
            "text/html": [
              "<div>\n",
              "<style scoped>\n",
              "    .dataframe tbody tr th:only-of-type {\n",
              "        vertical-align: middle;\n",
              "    }\n",
              "\n",
              "    .dataframe tbody tr th {\n",
              "        vertical-align: top;\n",
              "    }\n",
              "\n",
              "    .dataframe thead th {\n",
              "        text-align: right;\n",
              "    }\n",
              "</style>\n",
              "<table border=\"1\" class=\"dataframe\">\n",
              "  <thead>\n",
              "    <tr style=\"text-align: right;\">\n",
              "      <th></th>\n",
              "      <th>anio</th>\n",
              "      <th>mes</th>\n",
              "      <th>entidad</th>\n",
              "      <th>region</th>\n",
              "      <th>municipio</th>\n",
              "      <th>bien_juridico_afectado</th>\n",
              "      <th>tipo_delito</th>\n",
              "      <th>subtipo_delito</th>\n",
              "      <th>modalidad</th>\n",
              "      <th>numero_delitos</th>\n",
              "    </tr>\n",
              "  </thead>\n",
              "  <tbody>\n",
              "    <tr>\n",
              "      <th>0</th>\n",
              "      <td>2015</td>\n",
              "      <td>Enero</td>\n",
              "      <td>Sonora</td>\n",
              "      <td>Río Sonora</td>\n",
              "      <td>Aconchi</td>\n",
              "      <td>La vida y la Integridad corporal</td>\n",
              "      <td>Homicidio</td>\n",
              "      <td>Homicidio doloso</td>\n",
              "      <td>Con arma de fuego</td>\n",
              "      <td>0.0</td>\n",
              "    </tr>\n",
              "    <tr>\n",
              "      <th>1</th>\n",
              "      <td>2015</td>\n",
              "      <td>Enero</td>\n",
              "      <td>Sonora</td>\n",
              "      <td>Río Sonora</td>\n",
              "      <td>Aconchi</td>\n",
              "      <td>La vida y la Integridad corporal</td>\n",
              "      <td>Homicidio</td>\n",
              "      <td>Homicidio doloso</td>\n",
              "      <td>Con arma blanca</td>\n",
              "      <td>0.0</td>\n",
              "    </tr>\n",
              "    <tr>\n",
              "      <th>2</th>\n",
              "      <td>2015</td>\n",
              "      <td>Enero</td>\n",
              "      <td>Sonora</td>\n",
              "      <td>Río Sonora</td>\n",
              "      <td>Aconchi</td>\n",
              "      <td>La vida y la Integridad corporal</td>\n",
              "      <td>Homicidio</td>\n",
              "      <td>Homicidio doloso</td>\n",
              "      <td>Con otro elemento</td>\n",
              "      <td>0.0</td>\n",
              "    </tr>\n",
              "    <tr>\n",
              "      <th>3</th>\n",
              "      <td>2015</td>\n",
              "      <td>Enero</td>\n",
              "      <td>Sonora</td>\n",
              "      <td>Río Sonora</td>\n",
              "      <td>Aconchi</td>\n",
              "      <td>La vida y la Integridad corporal</td>\n",
              "      <td>Homicidio</td>\n",
              "      <td>Homicidio doloso</td>\n",
              "      <td>No especificado</td>\n",
              "      <td>0.0</td>\n",
              "    </tr>\n",
              "    <tr>\n",
              "      <th>4</th>\n",
              "      <td>2015</td>\n",
              "      <td>Enero</td>\n",
              "      <td>Sonora</td>\n",
              "      <td>Río Sonora</td>\n",
              "      <td>Aconchi</td>\n",
              "      <td>La vida y la Integridad corporal</td>\n",
              "      <td>Homicidio</td>\n",
              "      <td>Homicidio culposo</td>\n",
              "      <td>Con arma de fuego</td>\n",
              "      <td>0.0</td>\n",
              "    </tr>\n",
              "  </tbody>\n",
              "</table>\n",
              "</div>"
            ],
            "text/plain": [
              "   anio    mes entidad      region municipio  \\\n",
              "0  2015  Enero  Sonora  Río Sonora   Aconchi   \n",
              "1  2015  Enero  Sonora  Río Sonora   Aconchi   \n",
              "2  2015  Enero  Sonora  Río Sonora   Aconchi   \n",
              "3  2015  Enero  Sonora  Río Sonora   Aconchi   \n",
              "4  2015  Enero  Sonora  Río Sonora   Aconchi   \n",
              "\n",
              "             bien_juridico_afectado tipo_delito     subtipo_delito  \\\n",
              "0  La vida y la Integridad corporal   Homicidio   Homicidio doloso   \n",
              "1  La vida y la Integridad corporal   Homicidio   Homicidio doloso   \n",
              "2  La vida y la Integridad corporal   Homicidio   Homicidio doloso   \n",
              "3  La vida y la Integridad corporal   Homicidio   Homicidio doloso   \n",
              "4  La vida y la Integridad corporal   Homicidio  Homicidio culposo   \n",
              "\n",
              "           modalidad  numero_delitos  \n",
              "0  Con arma de fuego             0.0  \n",
              "1    Con arma blanca             0.0  \n",
              "2  Con otro elemento             0.0  \n",
              "3    No especificado             0.0  \n",
              "4  Con arma de fuego             0.0  "
            ]
          },
          "execution_count": 243,
          "metadata": {},
          "output_type": "execute_result"
        }
      ],
      "source": [
        "Incidencia_Delictiva_Municipal_df2s.head()"
      ]
    },
    {
      "cell_type": "markdown",
      "metadata": {
        "id": "QvLVTPow9s0A"
      },
      "source": [
        "## Tercer DataFrame: Incidencia delictiva federal 2012-2023"
      ]
    },
    {
      "cell_type": "markdown",
      "metadata": {},
      "source": [
        "#### Obtención de datos de incidencia delicitiva federal"
      ]
    },
    {
      "cell_type": "code",
      "execution_count": 279,
      "metadata": {
        "colab": {
          "base_uri": "https://localhost:8080/",
          "height": 400
        },
        "id": "GF1zFuhrHuNo",
        "outputId": "24f8d9ec-2604-4210-daff-3fb60eabbd0e"
      },
      "outputs": [],
      "source": [
        "try:\n",
        "    # Leemos el archivo csv\n",
        "    Incidencia_Delictiva_Federal_df = pd.read_csv(f'{folder_path_data}/CifrasdeIncidenciaDelictivaFederal2012agosto2023.csv')\n",
        "    Incidencia_Delictiva_Federal_df3s = Incidencia_Delictiva_Federal_df[Incidencia_Delictiva_Federal_df['ENTIDAD'] == 'SONORA']\n",
        "    Incidencia_Delictiva_Federal_df3s.head()\n",
        "except Exception as e:\n",
        "    # Imprimiendo un mensaje de error en caso de excepción\n",
        "    log_error_write(f\"Error al leer el archivo CSV: {e}\", 'Lectura de CifrasdeIncidenciaDelictivaFederal2012agosto2023')\n",
        "    print(f\"Error al leer el archivo CSV: {e}\")"
      ]
    },
    {
      "cell_type": "markdown",
      "metadata": {},
      "source": [
        "#### Primer proceso de limpieza y reorganización de la estructura original para crear la tabla tidy correspondiente"
      ]
    },
    {
      "cell_type": "code",
      "execution_count": 280,
      "metadata": {
        "id": "bh38IiJvH2Y2"
      },
      "outputs": [],
      "source": [
        "try:\n",
        "    if not Incidencia_Delictiva_Federal_df.empty:\n",
        "        Mes = list(np.char.upper(np.array(mes)))\n",
        "\n",
        "        Incidencia_Delictiva_Federal_df3s = Incidencia_Delictiva_Federal_df3s.reset_index()\n",
        "        Incidencia_Delictiva_Federal_df3s = pd.melt(Incidencia_Delictiva_Federal_df3s, id_vars = list(Incidencia_Delictiva_Federal_df.columns[0:6]),\n",
        "               value_vars = Mes, var_name = 'MES', value_name = 'NÚMERO DE DELITOS')\n",
        "    else:\n",
        "        log_error_write(f\"DataFrame leido vacio\", 'Lectura vacios de Incidencia_Delictiva_Federal_df')\n",
        "        print(f\"DataFrame leido vacio\")\n",
        "except Exception as e:\n",
        "    # Imprimiendo un mensaje de error en caso de excepción\n",
        "    log_error_write(f\"Error en la limpieza de dataframe: {e}\", 'Limpieza Incidencia_Delictiva_Federal_df 1')\n",
        "    print(f\"Error en la limpieza de dataframe: {e}\")"
      ]
    },
    {
      "cell_type": "code",
      "execution_count": 281,
      "metadata": {
        "colab": {
          "base_uri": "https://localhost:8080/",
          "height": 206
        },
        "id": "cEmqTQV_CFBX",
        "outputId": "6012cb13-85a6-4295-8ada-77f24c550663"
      },
      "outputs": [],
      "source": [
        "if not Incidencia_Delictiva_Federal_df.empty:\n",
        "    Incidencia_Delictiva_Federal_df3s.head()"
      ]
    },
    {
      "cell_type": "markdown",
      "metadata": {},
      "source": [
        "#### Segundo proceso de limpieza y reorganización de la estructura de la tabla tidy"
      ]
    },
    {
      "cell_type": "code",
      "execution_count": 282,
      "metadata": {
        "id": "LnqPHmokUy7q"
      },
      "outputs": [],
      "source": [
        "try:\n",
        "    if not Incidencia_Delictiva_Federal_df.empty:\n",
        "        # Quitamos observaciones en el futuro o no registradas, esto es, observaciones de los meses de Septiembre, Octubre, NOviembre\n",
        "        # y Diciembre del año 2023.\n",
        "        Incidencia_Delictiva_Federal_df3s = Incidencia_Delictiva_Federal_df3s.drop(Incidencia_Delictiva_Federal_df3s[Incidencia_Delictiva_Federal_df3s['MES'].isin(['SEPTIEMBRE', 'OCTUBRE', 'NOVIEMBRE', 'DICIEMBRE']) & (Incidencia_Delictiva_Federal_df3s['AÑO'].astype('string') == '2023')].index)\n",
        "\n",
        "        Incidencia_Delictiva_Federal_df3s = Incidencia_Delictiva_Federal_df3s.drop(['INEGI'], axis=1)\n",
        "    else:\n",
        "        log_error_write(f\"DataFrame leido vacio\", 'Lectura vacios de Incidencia_Delictiva_Federal_df')\n",
        "        print(f\"DataFrame leido vacio\")\n",
        "except Exception as e:\n",
        "    # Imprimiendo un mensaje de error en caso de excepción\n",
        "    log_error_write(f\"Error en la limpieza de dataframe: {e}\", 'Limpieza Incidencia_Delictiva_Federal_df 2')\n",
        "    print(f\"Error en la limpieza de dataframe: {e}\")"
      ]
    },
    {
      "cell_type": "code",
      "execution_count": 283,
      "metadata": {
        "colab": {
          "base_uri": "https://localhost:8080/"
        },
        "id": "WxKiGuEiB4CT",
        "outputId": "06b8961f-81c1-485c-9b5c-271258d4b90e"
      },
      "outputs": [
        {
          "name": "stdout",
          "output_type": "stream",
          "text": [
            "(4032, 7)\n"
          ]
        }
      ],
      "source": [
        "if not Incidencia_Delictiva_Federal_df.empty:\n",
        "    print(Incidencia_Delictiva_Federal_df3s.shape)"
      ]
    },
    {
      "cell_type": "markdown",
      "metadata": {},
      "source": [
        "#### Tercer proceso de limpieza y reorganización de la estructura de la tabla tidy"
      ]
    },
    {
      "cell_type": "code",
      "execution_count": 284,
      "metadata": {},
      "outputs": [],
      "source": [
        "try:\n",
        "    if not Incidencia_Delictiva_Federal_df.empty:\n",
        "        #Se hace reenombramiento de las distintas columnas de la tabla tidy para que tenga un formato estandar entre todas las demas tablas tidy\n",
        "        Incidencia_Delictiva_Federal_df3s.rename(columns = {'AÑO': 'anio'}, inplace = True)\n",
        "        Incidencia_Delictiva_Federal_df3s.rename(columns = {'MES': 'mes'}, inplace = True)\n",
        "        Incidencia_Delictiva_Federal_df3s.rename(columns = {'ENTIDAD': 'entidad'}, inplace = True)\n",
        "        Incidencia_Delictiva_Federal_df3s.rename(columns = {'LEY': 'ley'}, inplace = True)\n",
        "        Incidencia_Delictiva_Federal_df3s.rename(columns = {'CONCEPTO': 'concepto'}, inplace = True)\n",
        "        Incidencia_Delictiva_Federal_df3s.rename(columns = {'TIPO': 'tipo'}, inplace = True)     \n",
        "        Incidencia_Delictiva_Federal_df3s.rename(columns = {'NÚMERO DE DELITOS': 'numero_delitos'}, inplace = True)\n",
        "\n",
        "        Incidencia_Delictiva_Federal_df3s['numero_delitos'] = Incidencia_Delictiva_Federal_df3s['numero_delitos'].round(2).astype(float)\n",
        "\n",
        "        for column in Incidencia_Delictiva_Federal_df3s.columns:\n",
        "            if Incidencia_Delictiva_Federal_df3s[column].dtype == 'object':\n",
        "                Incidencia_Delictiva_Federal_df3s[column] = Incidencia_Delictiva_Federal_df3s[column].apply(lambda x: x.lower().title())\n",
        "\n",
        "        Incidencia_Delictiva_Federal_df3s.insert(1, 'mes', Incidencia_Delictiva_Federal_df3s.pop('mes'))\n",
        "    else:\n",
        "        log_error_write(f\"DataFrame leido vacio\", 'Lectura vacios de Incidencia_Delictiva_Federal_df')\n",
        "        print(f\"DataFrame leido vacio\")\n",
        "except Exception as e:\n",
        "    # Imprimiendo un mensaje de error en caso de excepción\n",
        "    log_error_write(f\"Error en la limpieza de dataframe: {e}\", 'Limpieza Incidencia_Delictiva_Federal_df 3')\n",
        "    print(f\"Error en la limpieza de dataframe: {e}\")"
      ]
    },
    {
      "cell_type": "code",
      "execution_count": 285,
      "metadata": {
        "colab": {
          "base_uri": "https://localhost:8080/"
        },
        "id": "gxh0B2ruDNLA",
        "outputId": "2f9dc4b7-94f6-4947-c4ac-0796951be22b"
      },
      "outputs": [
        {
          "name": "stdout",
          "output_type": "stream",
          "text": [
            "Columna anio: False\n",
            "Columna mes: False\n",
            "Columna entidad: False\n",
            "Columna ley: False\n",
            "Columna concepto: False\n",
            "Columna tipo: False\n",
            "Columna numero_delitos: False\n"
          ]
        }
      ],
      "source": [
        "try:\n",
        "  if not Incidencia_Delictiva_Federal_df.empty:\n",
        "    # Verificamos si hay datos faltantes\n",
        "    for column in Incidencia_Delictiva_Federal_df3s.columns:\n",
        "      print(f'Columna {column}: ' + str(Incidencia_Delictiva_Federal_df3s[column].isnull().values.any()))\n",
        "  else:\n",
        "    log_error_write(f\"DataFrame leido vacio\", 'Lectura vacios de Incidencia_Delictiva_Federal_df')\n",
        "    print(f\"DataFrame leido vacio\")\n",
        "except Exception as e:\n",
        "    # Imprimiendo un mensaje de error en caso de excepción\n",
        "    log_error_write(f\"Error en la lectura de dataframe: {e}\", 'Lectura vacios de Incidencia_Delictiva_Federal_df')\n",
        "    print(f\"Error en la lectura de dataframe: {e}\")"
      ]
    },
    {
      "cell_type": "markdown",
      "metadata": {},
      "source": [
        "#### Generacion de archivo que contiene los datos de la tabla tidy Incidencia_Delictiva_Federal"
      ]
    },
    {
      "cell_type": "code",
      "execution_count": 286,
      "metadata": {},
      "outputs": [
        {
          "name": "stdout",
          "output_type": "stream",
          "text": [
            "DataFrame (tabla tidy) guardado exitosamente en ../tidydata\\Incidencia_Delictiva_Federal.csv\n"
          ]
        }
      ],
      "source": [
        "try:\n",
        "  if not Incidencia_Delictiva_Federal_df.empty:\n",
        "    create_csv_from_DataFrame(Incidencia_Delictiva_Federal_df3s, f'Incidencia_Delictiva_Federal.csv')\n",
        "  else:\n",
        "      log_error_write(f\"DataFrame leido vacio\", 'Lectura vacios de Incidencia_Delictiva_Federal_df')\n",
        "      print(f\"DataFrame leido vacio\")\n",
        "except Exception as e:\n",
        "    # Imprimiendo un mensaje de error en caso de excepción\n",
        "    log_error_write(f\"Error creacion de archivo csv: {e}\", 'creacion archivo tabla tidy Incidencia_Delictiva_Federal')\n",
        "    print(f\"Error creacion de archivo csv: {e}\")"
      ]
    },
    {
      "cell_type": "code",
      "execution_count": 287,
      "metadata": {},
      "outputs": [
        {
          "data": {
            "text/html": [
              "<div>\n",
              "<style scoped>\n",
              "    .dataframe tbody tr th:only-of-type {\n",
              "        vertical-align: middle;\n",
              "    }\n",
              "\n",
              "    .dataframe tbody tr th {\n",
              "        vertical-align: top;\n",
              "    }\n",
              "\n",
              "    .dataframe thead th {\n",
              "        text-align: right;\n",
              "    }\n",
              "</style>\n",
              "<table border=\"1\" class=\"dataframe\">\n",
              "  <thead>\n",
              "    <tr style=\"text-align: right;\">\n",
              "      <th></th>\n",
              "      <th>anio</th>\n",
              "      <th>mes</th>\n",
              "      <th>entidad</th>\n",
              "      <th>ley</th>\n",
              "      <th>concepto</th>\n",
              "      <th>tipo</th>\n",
              "      <th>numero_delitos</th>\n",
              "    </tr>\n",
              "  </thead>\n",
              "  <tbody>\n",
              "    <tr>\n",
              "      <th>0</th>\n",
              "      <td>2012</td>\n",
              "      <td>Enero</td>\n",
              "      <td>Sonora</td>\n",
              "      <td>Codigo Penal Federal</td>\n",
              "      <td>Contra La Salud</td>\n",
              "      <td>Produccion</td>\n",
              "      <td>10.0</td>\n",
              "    </tr>\n",
              "    <tr>\n",
              "      <th>1</th>\n",
              "      <td>2012</td>\n",
              "      <td>Enero</td>\n",
              "      <td>Sonora</td>\n",
              "      <td>Codigo Penal Federal</td>\n",
              "      <td>Contra La Salud</td>\n",
              "      <td>Transporte</td>\n",
              "      <td>21.0</td>\n",
              "    </tr>\n",
              "    <tr>\n",
              "      <th>2</th>\n",
              "      <td>2012</td>\n",
              "      <td>Enero</td>\n",
              "      <td>Sonora</td>\n",
              "      <td>Codigo Penal Federal</td>\n",
              "      <td>Contra La Salud</td>\n",
              "      <td>Trafico</td>\n",
              "      <td>0.0</td>\n",
              "    </tr>\n",
              "    <tr>\n",
              "      <th>3</th>\n",
              "      <td>2012</td>\n",
              "      <td>Enero</td>\n",
              "      <td>Sonora</td>\n",
              "      <td>Codigo Penal Federal</td>\n",
              "      <td>Contra La Salud</td>\n",
              "      <td>Comercio</td>\n",
              "      <td>45.0</td>\n",
              "    </tr>\n",
              "    <tr>\n",
              "      <th>4</th>\n",
              "      <td>2012</td>\n",
              "      <td>Enero</td>\n",
              "      <td>Sonora</td>\n",
              "      <td>Codigo Penal Federal</td>\n",
              "      <td>Contra La Salud</td>\n",
              "      <td>Suministro</td>\n",
              "      <td>1.0</td>\n",
              "    </tr>\n",
              "  </tbody>\n",
              "</table>\n",
              "</div>"
            ],
            "text/plain": [
              "   anio    mes entidad                   ley         concepto        tipo  \\\n",
              "0  2012  Enero  Sonora  Codigo Penal Federal  Contra La Salud  Produccion   \n",
              "1  2012  Enero  Sonora  Codigo Penal Federal  Contra La Salud  Transporte   \n",
              "2  2012  Enero  Sonora  Codigo Penal Federal  Contra La Salud     Trafico   \n",
              "3  2012  Enero  Sonora  Codigo Penal Federal  Contra La Salud    Comercio   \n",
              "4  2012  Enero  Sonora  Codigo Penal Federal  Contra La Salud  Suministro   \n",
              "\n",
              "   numero_delitos  \n",
              "0            10.0  \n",
              "1            21.0  \n",
              "2             0.0  \n",
              "3            45.0  \n",
              "4             1.0  "
            ]
          },
          "execution_count": 287,
          "metadata": {},
          "output_type": "execute_result"
        }
      ],
      "source": [
        "Incidencia_Delictiva_Federal_df3s.head()"
      ]
    },
    {
      "cell_type": "markdown",
      "metadata": {
        "id": "dna6XSROCjDR"
      },
      "source": [
        "## Cuarto DataFrame: Victimas del fuero común 2015-2023"
      ]
    },
    {
      "cell_type": "markdown",
      "metadata": {},
      "source": [
        "#### Obtención de datos de las victimas del fuero común"
      ]
    },
    {
      "cell_type": "code",
      "execution_count": 33,
      "metadata": {
        "colab": {
          "base_uri": "https://localhost:8080/",
          "height": 551
        },
        "id": "yHhYchcigtyG",
        "outputId": "0f9e0e7d-96e4-4458-dc0d-659289b010b5"
      },
      "outputs": [
        {
          "name": "stdout",
          "output_type": "stream",
          "text": [
            "       Año  Clave_Ent Entidad            Bien jurídico afectado  \\\n",
            "5750  2015         26  Sonora  La vida y la Integridad corporal   \n",
            "5751  2015         26  Sonora  La vida y la Integridad corporal   \n",
            "5752  2015         26  Sonora  La vida y la Integridad corporal   \n",
            "5753  2015         26  Sonora  La vida y la Integridad corporal   \n",
            "5754  2015         26  Sonora  La vida y la Integridad corporal   \n",
            "\n",
            "     Tipo de delito  Subtipo de delito          Modalidad   Sexo  \\\n",
            "5750      Homicidio   Homicidio doloso  Con arma de fuego  Mujer   \n",
            "5751      Homicidio   Homicidio doloso    Con arma blanca  Mujer   \n",
            "5752      Homicidio   Homicidio doloso  Con otro elemento  Mujer   \n",
            "5753      Homicidio   Homicidio doloso    No especificado  Mujer   \n",
            "5754      Homicidio  Homicidio culposo  Con arma de fuego  Mujer   \n",
            "\n",
            "               Rango de edad  Enero  ...  Marzo  Abril  Mayo  Junio  Julio  \\\n",
            "5750  Menores de edad (0-17)      0  ...      0      0     0      1      0   \n",
            "5751  Menores de edad (0-17)      0  ...      0      0     0      0      1   \n",
            "5752  Menores de edad (0-17)      0  ...      0      1     0      0      1   \n",
            "5753  Menores de edad (0-17)      0  ...      0      0     0      0      0   \n",
            "5754  Menores de edad (0-17)      0  ...      0      0     0      0      0   \n",
            "\n",
            "      Agosto  Septiembre  Octubre  Noviembre  Diciembre  \n",
            "5750       0         1.0      0.0        0.0        0.0  \n",
            "5751       0         0.0      0.0        1.0        0.0  \n",
            "5752       0         0.0      0.0        0.0        0.0  \n",
            "5753       0         0.0      0.0        0.0        0.0  \n",
            "5754       0         0.0      0.0        0.0        0.0  \n",
            "\n",
            "[5 rows x 21 columns]\n"
          ]
        }
      ],
      "source": [
        "try:\n",
        "    ## Leemos el archivo csv y obtenemos los datos de Sonora\n",
        "    Victimas_Fuero_Comun_Estatal_df = pd.read_csv(f'{folder_path_data}/CifrasdeVictimasdelFueroComun2015agosto2023.csv')\n",
        "    Victimas_Fuero_Comun_Estatal_df4s = Victimas_Fuero_Comun_Estatal_df[Victimas_Fuero_Comun_Estatal_df['Entidad'] == 'Sonora']\n",
        "    print(Victimas_Fuero_Comun_Estatal_df4s.head())\n",
        "except Exception as e:\n",
        "    # Imprimiendo un mensaje de error en caso de excepción\n",
        "    log_error_write(f\"Error al leer el archivo CSV: {e}\", 'Lectura de CifrasdeVictimasdelFueroComun2015agosto2023')\n",
        "    print(f\"Error al leer el archivo CSV: {e}\")"
      ]
    },
    {
      "cell_type": "code",
      "execution_count": 34,
      "metadata": {
        "colab": {
          "base_uri": "https://localhost:8080/"
        },
        "id": "WFEYIQayGAXo",
        "outputId": "49f7ec26-2c30-4929-cbb8-78228a433cde"
      },
      "outputs": [
        {
          "name": "stdout",
          "output_type": "stream",
          "text": [
            "Columna Año: False\n",
            "Columna Clave_Ent: False\n",
            "Columna Entidad: False\n",
            "Columna Bien jurídico afectado: False\n",
            "Columna Tipo de delito: False\n",
            "Columna Subtipo de delito: False\n",
            "Columna Modalidad: False\n",
            "Columna Sexo: False\n",
            "Columna Rango de edad: False\n",
            "Columna Enero: False\n",
            "Columna Febrero: False\n",
            "Columna Marzo: False\n",
            "Columna Abril: False\n",
            "Columna Mayo: False\n",
            "Columna Junio: False\n",
            "Columna Julio: False\n",
            "Columna Agosto: False\n",
            "Columna Septiembre: True\n",
            "Columna Octubre: True\n",
            "Columna Noviembre: True\n",
            "Columna Diciembre: True\n"
          ]
        }
      ],
      "source": [
        "try:\n",
        "  if not Victimas_Fuero_Comun_Estatal_df.empty:\n",
        "    for column in Victimas_Fuero_Comun_Estatal_df4s.columns:\n",
        "      print(f'Columna {column}: ' + str(Victimas_Fuero_Comun_Estatal_df4s[column].isnull().values.any()))\n",
        "  else:\n",
        "    log_error_write(f\"DataFrame leido vacio\", 'Lectura vacios de Victimas_Fuero_Comun_Estatal_df')\n",
        "    print(f\"DataFrame leido vacio\")\n",
        "except Exception as e:\n",
        "    # Imprimiendo un mensaje de error en caso de excepción\n",
        "    log_error_write(f\"Error en la lectura de dataframe: {e}\", 'Lectura vacios de Victimas_Fuero_Comun_Estatal_df')\n",
        "    print(f\"Error en la lectura de dataframe: {e}\")"
      ]
    },
    {
      "cell_type": "markdown",
      "metadata": {},
      "source": [
        "#### Primer proceso de limpieza y reorganización de la estructura original para crear la tabla tidy correspondiente"
      ]
    },
    {
      "cell_type": "code",
      "execution_count": 18,
      "metadata": {
        "id": "cBAJ593NhKDr"
      },
      "outputs": [
        {
          "name": "stdout",
          "output_type": "stream",
          "text": [
            "    Año  Clave_Ent Entidad            Bien jurídico afectado Tipo de delito  \\\n",
            "0  2015         26  Sonora  La vida y la Integridad corporal      Homicidio   \n",
            "1  2015         26  Sonora  La vida y la Integridad corporal      Homicidio   \n",
            "2  2015         26  Sonora  La vida y la Integridad corporal      Homicidio   \n",
            "3  2015         26  Sonora  La vida y la Integridad corporal      Homicidio   \n",
            "4  2015         26  Sonora  La vida y la Integridad corporal      Homicidio   \n",
            "\n",
            "   Subtipo de delito          Modalidad   Sexo           Rango de edad    Mes  \\\n",
            "0   Homicidio doloso  Con arma de fuego  Mujer  Menores de edad (0-17)  Enero   \n",
            "1   Homicidio doloso    Con arma blanca  Mujer  Menores de edad (0-17)  Enero   \n",
            "2   Homicidio doloso  Con otro elemento  Mujer  Menores de edad (0-17)  Enero   \n",
            "3   Homicidio doloso    No especificado  Mujer  Menores de edad (0-17)  Enero   \n",
            "4  Homicidio culposo  Con arma de fuego  Mujer  Menores de edad (0-17)  Enero   \n",
            "\n",
            "   Número de delitos  \n",
            "0                0.0  \n",
            "1                0.0  \n",
            "2                0.0  \n",
            "3                0.0  \n",
            "4                0.0  \n"
          ]
        }
      ],
      "source": [
        "try:\n",
        "  if not Victimas_Fuero_Comun_Estatal_df.empty:\n",
        "    # Pasamos de formato wide a long\n",
        "    Victimas_Fuero_Comun_Estatal_df4s = Victimas_Fuero_Comun_Estatal_df4s.reset_index()\n",
        "    Victimas_Fuero_Comun_Estatal_df4s = pd.melt(Victimas_Fuero_Comun_Estatal_df4s, id_vars = list(Victimas_Fuero_Comun_Estatal_df.columns[0:9]),\n",
        "               value_vars = mes, var_name = 'Mes', value_name = 'Número de delitos')\n",
        "    \n",
        "    print(Victimas_Fuero_Comun_Estatal_df4s.head())\n",
        "  else:\n",
        "    log_error_write(f\"DataFrame leido vacio\", 'Lectura vacios de Victimas_Fuero_Comun_Estatal_df')\n",
        "    print(f\"DataFrame leido vacio\")\n",
        "except Exception as e:\n",
        "  # Imprimiendo un mensaje de error en caso de excepción\n",
        "  log_error_write(f\"Error en la limpieza de dataframe: {e}\", 'Limpieza Victimas_Fuero_Comun_Estatal_df 1')\n",
        "  print(f\"Error en la limpieza de dataframe: {e}\")"
      ]
    },
    {
      "cell_type": "markdown",
      "metadata": {},
      "source": [
        "#### Segundo proceso de limpieza y reorganización de la estructura de la tabla tidy"
      ]
    },
    {
      "cell_type": "code",
      "execution_count": 291,
      "metadata": {
        "id": "W08LdfFDE918"
      },
      "outputs": [],
      "source": [
        "try:\n",
        "  if not Victimas_Fuero_Comun_Estatal_df.empty:\n",
        "    # Quitamos observaciones en el futuro o no registradas, esto es, observaciones de los meses de Septiembre, Octubre, NOviembre\n",
        "    # y Diciembre del año 2023.\n",
        "    Victimas_Fuero_Comun_Estatal_df4s = Victimas_Fuero_Comun_Estatal_df4s.drop(Victimas_Fuero_Comun_Estatal_df4s[Victimas_Fuero_Comun_Estatal_df4s['Mes'].isin(['Septiembre', 'Octubre', 'Noviembre', 'Diciembre']) & (Victimas_Fuero_Comun_Estatal_df4s['Año'].astype('string') == '2023')].index)\n",
        "\n",
        "    Victimas_Fuero_Comun_Estatal_df4s = Victimas_Fuero_Comun_Estatal_df4s.drop(['Clave_Ent'], axis=1)\n",
        "  else:\n",
        "    log_error_write(f\"DataFrame leido vacio\", 'Lectura vacios de Victimas_Fuero_Comun_Estatal_df')\n",
        "    print(f\"DataFrame leido vacio\")\n",
        "except Exception as e:\n",
        "  # Imprimiendo un mensaje de error en caso de excepción\n",
        "  log_error_write(f\"Error en la limpieza de dataframe: {e}\", 'Limpieza Victimas_Fuero_Comun_Estatal_df 2')\n",
        "  print(f\"Error en la limpieza de dataframe: {e}\")"
      ]
    },
    {
      "cell_type": "code",
      "execution_count": 292,
      "metadata": {
        "colab": {
          "base_uri": "https://localhost:8080/"
        },
        "id": "MdcVRPZihNUR",
        "outputId": "cb1db20d-3cf9-4916-aa5b-a45df3cd2386"
      },
      "outputs": [
        {
          "name": "stdout",
          "output_type": "stream",
          "text": [
            "(23920, 10)\n"
          ]
        }
      ],
      "source": [
        "if not Victimas_Fuero_Comun_Estatal_df.empty:\n",
        "    print(Victimas_Fuero_Comun_Estatal_df4s.shape)"
      ]
    },
    {
      "cell_type": "markdown",
      "metadata": {},
      "source": [
        "#### Tercer proceso de limpieza y reorganización de la estructura de la tabla tidy"
      ]
    },
    {
      "cell_type": "code",
      "execution_count": 293,
      "metadata": {},
      "outputs": [],
      "source": [
        "try:\n",
        "  if not Victimas_Fuero_Comun_Estatal_df.empty:\n",
        "    #Se hace reenombramiento de las distintas columnas de la tabla tidy para que tenga un formato estandar entre todas las demas tablas tidy\n",
        "    Victimas_Fuero_Comun_Estatal_df4s.rename(columns = {'Año': 'anio'}, inplace = True)\n",
        "    Victimas_Fuero_Comun_Estatal_df4s.rename(columns = {'Mes': 'mes'}, inplace = True)\n",
        "    Victimas_Fuero_Comun_Estatal_df4s.rename(columns = {'Entidad': 'entidad'}, inplace = True)\n",
        "    Victimas_Fuero_Comun_Estatal_df4s.rename(columns = {'Bien jurídico afectado': 'bien_juridico_afectado'}, inplace = True)\n",
        "    Victimas_Fuero_Comun_Estatal_df4s.rename(columns = {'Tipo de delito': 'tipo_delito'}, inplace = True)\n",
        "    Victimas_Fuero_Comun_Estatal_df4s.rename(columns = {'Subtipo de delito': 'subtipo_delito'}, inplace = True)\n",
        "    Victimas_Fuero_Comun_Estatal_df4s.rename(columns = {'Modalidad': 'modalidad'}, inplace = True)\n",
        "    Victimas_Fuero_Comun_Estatal_df4s.rename(columns = {'Sexo': 'sexo'}, inplace = True)\n",
        "    Victimas_Fuero_Comun_Estatal_df4s.rename(columns = {'Rango de edad': 'rango_edad'}, inplace = True)     \n",
        "    Victimas_Fuero_Comun_Estatal_df4s.rename(columns = {'Número de delitos': 'numero_delitos'}, inplace = True)\n",
        "\n",
        "    Victimas_Fuero_Comun_Estatal_df4s['numero_delitos'] = Victimas_Fuero_Comun_Estatal_df4s['numero_delitos'].round(2).astype(float)\n",
        "\n",
        "    Victimas_Fuero_Comun_Estatal_df4s.insert(1, 'mes', Victimas_Fuero_Comun_Estatal_df4s.pop('mes'))\n",
        "  else:\n",
        "    log_error_write(f\"DataFrame leido vacio\", 'Lectura vacios de Victimas_Fuero_Comun_Estatal_df')\n",
        "    print(f\"DataFrame leido vacio\")\n",
        "except Exception as e:\n",
        "  # Imprimiendo un mensaje de error en caso de excepción\n",
        "  log_error_write(f\"Error en la limpieza de dataframe: {e}\", 'Limpieza Victimas_Fuero_Comun_Estatal_df 3')\n",
        "  print(f\"Error en la limpieza de dataframe: {e}\")"
      ]
    },
    {
      "cell_type": "code",
      "execution_count": 294,
      "metadata": {
        "colab": {
          "base_uri": "https://localhost:8080/"
        },
        "id": "iyavdPbrFhf0",
        "outputId": "663137d2-3b28-485b-fb63-727bce5de014"
      },
      "outputs": [
        {
          "name": "stdout",
          "output_type": "stream",
          "text": [
            "Columna anio: False\n",
            "Columna mes: False\n",
            "Columna entidad: False\n",
            "Columna bien_juridico_afectado: False\n",
            "Columna tipo_delito: False\n",
            "Columna subtipo_delito: False\n",
            "Columna modalidad: False\n",
            "Columna sexo: False\n",
            "Columna rango_edad: False\n",
            "Columna numero_delitos: False\n"
          ]
        }
      ],
      "source": [
        "try:\n",
        "  if not Victimas_Fuero_Comun_Estatal_df.empty:\n",
        "    # Verificamos si existen otros datos faltantes\n",
        "    for column in Victimas_Fuero_Comun_Estatal_df4s.columns:\n",
        "      print(f'Columna {column}: ' + str(Victimas_Fuero_Comun_Estatal_df4s[column].isnull().values.any()))\n",
        "  else:\n",
        "    log_error_write(f\"DataFrame leido vacio\", 'Lectura vacios de Victimas_Fuero_Comun_Estatal_df')\n",
        "    print(f\"DataFrame leido vacio\")\n",
        "except Exception as e:\n",
        "    # Imprimiendo un mensaje de error en caso de excepción\n",
        "    log_error_write(f\"Error en la lectura de dataframe: {e}\", 'Lectura vacios de Victimas_Fuero_Comun_Estatal_df')\n",
        "    print(f\"Error en la lectura de dataframe: {e}\")"
      ]
    },
    {
      "cell_type": "markdown",
      "metadata": {},
      "source": [
        "#### Generacion de archivo que contiene los datos de la tabla tidy Victimas_Fuero_Comun_Estatal"
      ]
    },
    {
      "cell_type": "code",
      "execution_count": 295,
      "metadata": {},
      "outputs": [
        {
          "name": "stdout",
          "output_type": "stream",
          "text": [
            "DataFrame (tabla tidy) guardado exitosamente en ../tidydata\\Victimas_Fuero_Comun_Estatal.csv\n"
          ]
        }
      ],
      "source": [
        "try:\n",
        "  if not Victimas_Fuero_Comun_Estatal_df.empty:\n",
        "    create_csv_from_DataFrame(Victimas_Fuero_Comun_Estatal_df4s, f'Victimas_Fuero_Comun_Estatal.csv')\n",
        "  else:\n",
        "      log_error_write(f\"DataFrame leido vacio\", 'Lectura vacios de Victimas_Fuero_Comun_Estatal_df')\n",
        "      print(f\"DataFrame leido vacio\")\n",
        "except Exception as e:\n",
        "    # Imprimiendo un mensaje de error en caso de excepción\n",
        "    log_error_write(f\"Error creacion de archivo csv: {e}\", 'creacion archivo tabla tidy Victimas_Fuero_Comun_Estatal')\n",
        "    print(f\"Error creacion de archivo csv: {e}\")"
      ]
    },
    {
      "cell_type": "code",
      "execution_count": 298,
      "metadata": {},
      "outputs": [
        {
          "data": {
            "text/html": [
              "<div>\n",
              "<style scoped>\n",
              "    .dataframe tbody tr th:only-of-type {\n",
              "        vertical-align: middle;\n",
              "    }\n",
              "\n",
              "    .dataframe tbody tr th {\n",
              "        vertical-align: top;\n",
              "    }\n",
              "\n",
              "    .dataframe thead th {\n",
              "        text-align: right;\n",
              "    }\n",
              "</style>\n",
              "<table border=\"1\" class=\"dataframe\">\n",
              "  <thead>\n",
              "    <tr style=\"text-align: right;\">\n",
              "      <th></th>\n",
              "      <th>anio</th>\n",
              "      <th>mes</th>\n",
              "      <th>entidad</th>\n",
              "      <th>bien_juridico_afectado</th>\n",
              "      <th>tipo_delito</th>\n",
              "      <th>subtipo_delito</th>\n",
              "      <th>modalidad</th>\n",
              "      <th>sexo</th>\n",
              "      <th>rango_edad</th>\n",
              "      <th>numero_delitos</th>\n",
              "    </tr>\n",
              "  </thead>\n",
              "  <tbody>\n",
              "    <tr>\n",
              "      <th>0</th>\n",
              "      <td>2015</td>\n",
              "      <td>Enero</td>\n",
              "      <td>Sonora</td>\n",
              "      <td>La vida y la Integridad corporal</td>\n",
              "      <td>Homicidio</td>\n",
              "      <td>Homicidio doloso</td>\n",
              "      <td>Con arma de fuego</td>\n",
              "      <td>Mujer</td>\n",
              "      <td>Menores de edad (0-17)</td>\n",
              "      <td>0.0</td>\n",
              "    </tr>\n",
              "    <tr>\n",
              "      <th>1</th>\n",
              "      <td>2015</td>\n",
              "      <td>Enero</td>\n",
              "      <td>Sonora</td>\n",
              "      <td>La vida y la Integridad corporal</td>\n",
              "      <td>Homicidio</td>\n",
              "      <td>Homicidio doloso</td>\n",
              "      <td>Con arma blanca</td>\n",
              "      <td>Mujer</td>\n",
              "      <td>Menores de edad (0-17)</td>\n",
              "      <td>0.0</td>\n",
              "    </tr>\n",
              "    <tr>\n",
              "      <th>2</th>\n",
              "      <td>2015</td>\n",
              "      <td>Enero</td>\n",
              "      <td>Sonora</td>\n",
              "      <td>La vida y la Integridad corporal</td>\n",
              "      <td>Homicidio</td>\n",
              "      <td>Homicidio doloso</td>\n",
              "      <td>Con otro elemento</td>\n",
              "      <td>Mujer</td>\n",
              "      <td>Menores de edad (0-17)</td>\n",
              "      <td>0.0</td>\n",
              "    </tr>\n",
              "    <tr>\n",
              "      <th>3</th>\n",
              "      <td>2015</td>\n",
              "      <td>Enero</td>\n",
              "      <td>Sonora</td>\n",
              "      <td>La vida y la Integridad corporal</td>\n",
              "      <td>Homicidio</td>\n",
              "      <td>Homicidio doloso</td>\n",
              "      <td>No especificado</td>\n",
              "      <td>Mujer</td>\n",
              "      <td>Menores de edad (0-17)</td>\n",
              "      <td>0.0</td>\n",
              "    </tr>\n",
              "    <tr>\n",
              "      <th>4</th>\n",
              "      <td>2015</td>\n",
              "      <td>Enero</td>\n",
              "      <td>Sonora</td>\n",
              "      <td>La vida y la Integridad corporal</td>\n",
              "      <td>Homicidio</td>\n",
              "      <td>Homicidio culposo</td>\n",
              "      <td>Con arma de fuego</td>\n",
              "      <td>Mujer</td>\n",
              "      <td>Menores de edad (0-17)</td>\n",
              "      <td>0.0</td>\n",
              "    </tr>\n",
              "  </tbody>\n",
              "</table>\n",
              "</div>"
            ],
            "text/plain": [
              "   anio    mes entidad            bien_juridico_afectado tipo_delito  \\\n",
              "0  2015  Enero  Sonora  La vida y la Integridad corporal   Homicidio   \n",
              "1  2015  Enero  Sonora  La vida y la Integridad corporal   Homicidio   \n",
              "2  2015  Enero  Sonora  La vida y la Integridad corporal   Homicidio   \n",
              "3  2015  Enero  Sonora  La vida y la Integridad corporal   Homicidio   \n",
              "4  2015  Enero  Sonora  La vida y la Integridad corporal   Homicidio   \n",
              "\n",
              "      subtipo_delito          modalidad   sexo              rango_edad  \\\n",
              "0   Homicidio doloso  Con arma de fuego  Mujer  Menores de edad (0-17)   \n",
              "1   Homicidio doloso    Con arma blanca  Mujer  Menores de edad (0-17)   \n",
              "2   Homicidio doloso  Con otro elemento  Mujer  Menores de edad (0-17)   \n",
              "3   Homicidio doloso    No especificado  Mujer  Menores de edad (0-17)   \n",
              "4  Homicidio culposo  Con arma de fuego  Mujer  Menores de edad (0-17)   \n",
              "\n",
              "   numero_delitos  \n",
              "0             0.0  \n",
              "1             0.0  \n",
              "2             0.0  \n",
              "3             0.0  \n",
              "4             0.0  "
            ]
          },
          "execution_count": 298,
          "metadata": {},
          "output_type": "execute_result"
        }
      ],
      "source": [
        "Victimas_Fuero_Comun_Estatal_df4s.head()\n",
        "#Incidencia_Delictiva_Estatal_df.info()"
      ]
    },
    {
      "cell_type": "markdown",
      "metadata": {},
      "source": [
        "## Datos tidy sobre el datos incidencia delictiva contra mujeres"
      ]
    },
    {
      "cell_type": "markdown",
      "metadata": {},
      "source": [
        "#### Por tipo de delito (indicador)"
      ]
    },
    {
      "cell_type": "code",
      "execution_count": 97,
      "metadata": {},
      "outputs": [
        {
          "name": "stdout",
          "output_type": "stream",
          "text": [
            "    Año                    Tipo de delito  Enero  Febrero  Marzo  Abril  Mayo  \\\n",
            "0  2013                Violencia Familiar    167      168    169    163   178   \n",
            "1  2013                       Negligencia     25       30     21     43    26   \n",
            "2  2013                      Abuso Físico     26       19     19     45    30   \n",
            "3  2013  Incumpl. obligaciones familiares     31       26     21     22    28   \n",
            "4  2013               Omisión de Cuidados     15        4      7     19    12   \n",
            "\n",
            "   Junio  Julio  Agosto  Septiembre  Octubre  Noviembre  Diciembre  \n",
            "0    164    103     156         154      140          0          0  \n",
            "1     36     25      28          22       13          0          0  \n",
            "2     28     22      33          17       21          0          0  \n",
            "3     34     19      35          20       21          0          0  \n",
            "4     12     11      15           5       14          0          0  \n"
          ]
        }
      ],
      "source": [
        "try:\n",
        "    ## Leemos el archivo csv y obtenemos los datos de Sonora\n",
        "    Incidencia_Delictiva_Mujeres_Tipo_Delito_df = pd.read_csv(f'{folder_path_data}/CifrasIncidenciaDelictivaContraMujeresIndicador.csv')\n",
        "\n",
        "    Incidencia_Delictiva_Mujeres_Tipo_Delito_df.insert(0, 'Año', Incidencia_Delictiva_Mujeres_Tipo_Delito_df.pop('Año'))\n",
        "     # Eliminando las columnas total y porcentaje que se encuentran al final\n",
        "    Incidencia_Delictiva_Mujeres_Tipo_Delito_df = Incidencia_Delictiva_Mujeres_Tipo_Delito_df.iloc[:, :-2]\n",
        "    print(Incidencia_Delictiva_Mujeres_Tipo_Delito_df.head())\n",
        "except Exception as e:\n",
        "    # Imprimiendo un mensaje de error en caso de excepción\n",
        "    log_error_write(f\"Error al leer el archivo CSV: {e}\", 'Lectura de CifrasIncidenciaDelictivaContraMujeresIndicador')\n",
        "    print(f\"Error al leer el archivo CSV: {e}\")"
      ]
    },
    {
      "cell_type": "code",
      "execution_count": 98,
      "metadata": {},
      "outputs": [
        {
          "name": "stdout",
          "output_type": "stream",
          "text": [
            "Columna Año: False\n",
            "Columna Tipo de delito: False\n",
            "Columna Enero: False\n",
            "Columna Febrero: False\n",
            "Columna Marzo: False\n",
            "Columna Abril: False\n",
            "Columna Mayo: False\n",
            "Columna Junio: False\n",
            "Columna Julio: False\n",
            "Columna Agosto: False\n",
            "Columna Septiembre: False\n",
            "Columna Octubre: False\n",
            "Columna Noviembre: False\n",
            "Columna Diciembre: False\n"
          ]
        }
      ],
      "source": [
        "try:\n",
        "  if not Incidencia_Delictiva_Mujeres_Tipo_Delito_df.empty:\n",
        "    for column in Incidencia_Delictiva_Mujeres_Tipo_Delito_df.columns:\n",
        "      print(f'Columna {column}: ' + str(Incidencia_Delictiva_Mujeres_Tipo_Delito_df[column].isnull().values.any()))\n",
        "  else:\n",
        "    log_error_write(f\"DataFrame leido vacio\", 'Lectura vacios de Incidencia_Delictiva_Mujeres_Tipo_Delito_df')\n",
        "    print(f\"DataFrame leido vacio\")\n",
        "except Exception as e:\n",
        "    # Imprimiendo un mensaje de error en caso de excepción\n",
        "    log_error_write(f\"Error en la lectura de dataframe: {e}\", 'Lectura vacios de Incidencia_Delictiva_Mujeres_Tipo_Delito_df')\n",
        "    print(f\"Error en la lectura de dataframe: {e}\")"
      ]
    },
    {
      "cell_type": "code",
      "execution_count": 99,
      "metadata": {},
      "outputs": [],
      "source": [
        "try:\n",
        "  if not Incidencia_Delictiva_Mujeres_Tipo_Delito_df.empty:\n",
        "    # Pasamos de formato wide a long\n",
        "    Incidencia_Delictiva_Mujeres_Tipo_Delito_dfs = Incidencia_Delictiva_Mujeres_Tipo_Delito_df.reset_index()\n",
        "    Incidencia_Delictiva_Mujeres_Tipo_Delito_dfs = pd.melt(Incidencia_Delictiva_Mujeres_Tipo_Delito_dfs, id_vars = list(Incidencia_Delictiva_Mujeres_Tipo_Delito_df.columns[0:2]),\n",
        "               value_vars = mes, var_name = 'mes', value_name = 'numero_delitos')\n",
        "  else:\n",
        "    log_error_write(f\"DataFrame leido vacio\", 'Lectura vacios de Incidencia_Delictiva_Mujeres_Tipo_Delito_df')\n",
        "    print(f\"DataFrame leido vacio\")\n",
        "except Exception as e:\n",
        "  # Imprimiendo un mensaje de error en caso de excepción\n",
        "  log_error_write(f\"Error en la limpieza de dataframe: {e}\", 'Limpieza Incidencia_Delictiva_Mujeres_Tipo_Delito_df 1')\n",
        "  print(f\"Error en la limpieza de dataframe: {e}\")"
      ]
    },
    {
      "cell_type": "code",
      "execution_count": 100,
      "metadata": {},
      "outputs": [],
      "source": [
        "try:\n",
        "  if not Incidencia_Delictiva_Mujeres_Tipo_Delito_df.empty:\n",
        "    # Quitamos observaciones en el futuro o no registradas, esto es, observaciones de los meses de Septiembre, Octubre, NOviembre\n",
        "    # y Diciembre del año 2023.\n",
        "    Incidencia_Delictiva_Mujeres_Tipo_Delito_dfs = Incidencia_Delictiva_Mujeres_Tipo_Delito_dfs.drop(Incidencia_Delictiva_Mujeres_Tipo_Delito_dfs[Incidencia_Delictiva_Mujeres_Tipo_Delito_dfs['mes'].isin(['Septiembre', 'Octubre', 'Noviembre', 'Diciembre']) & (Incidencia_Delictiva_Mujeres_Tipo_Delito_dfs['Año'].astype('string') == '2023')].index)\n",
        "    #Se hace reenombramiento de las distintas columnas de la tabla tidy para que tenga un formato estandar entre todas las demas tablas tidy\n",
        "    Incidencia_Delictiva_Mujeres_Tipo_Delito_dfs.rename(columns = {'Año': 'anio'}, inplace = True)\n",
        "    Incidencia_Delictiva_Mujeres_Tipo_Delito_dfs.rename(columns = {'Tipo de delito': 'tipo_delito'}, inplace = True)\n",
        "\n",
        "    Incidencia_Delictiva_Mujeres_Tipo_Delito_dfs['numero_delitos'] = Incidencia_Delictiva_Mujeres_Tipo_Delito_dfs['numero_delitos'].round(2).astype(float)\n",
        "    Incidencia_Delictiva_Mujeres_Tipo_Delito_dfs.insert(1, 'mes', Incidencia_Delictiva_Mujeres_Tipo_Delito_dfs.pop('mes'))\n",
        "  else:\n",
        "      log_error_write(f\"DataFrame leido vacio\", 'Limpieza Incidencia_Delictiva_Mujeres_Tipo_Delito_df')\n",
        "      print(f\"DataFrame leido vacio\")\n",
        "except Exception as e:\n",
        "    # Imprimiendo un mensaje de error en caso de excepción\n",
        "    log_error_write(f\"Error en la limpieza de dataframe: {e}\", 'Limpieza Incidencia_Delictiva_Mujeres_Tipo_Delito_df_ 2')\n",
        "    print(f\"Error en la limpieza de dataframe: {e}\")"
      ]
    },
    {
      "cell_type": "code",
      "execution_count": 101,
      "metadata": {},
      "outputs": [
        {
          "name": "stdout",
          "output_type": "stream",
          "text": [
            "(2912, 4)\n"
          ]
        }
      ],
      "source": [
        "if not Incidencia_Delictiva_Mujeres_Tipo_Delito_df.empty:\n",
        "    print(Incidencia_Delictiva_Mujeres_Tipo_Delito_dfs.shape)"
      ]
    },
    {
      "cell_type": "code",
      "execution_count": 102,
      "metadata": {},
      "outputs": [
        {
          "name": "stdout",
          "output_type": "stream",
          "text": [
            "DataFrame (tabla tidy) guardado exitosamente en ../tidydata\\Incidencia_Delictiva_Mujeres_Tipo_Delito.csv\n"
          ]
        }
      ],
      "source": [
        "try:\n",
        "  if not Incidencia_Delictiva_Mujeres_Tipo_Delito_df.empty:\n",
        "    create_csv_from_DataFrame(Incidencia_Delictiva_Mujeres_Tipo_Delito_dfs, f'Incidencia_Delictiva_Mujeres_Tipo_Delito.csv')\n",
        "  else:\n",
        "      log_error_write(f\"DataFrame leido vacio\", 'Lectura vacios de Incidencia_Delictiva_Mujeres_Tipo_Delito_df')\n",
        "      print(f\"DataFrame leido vacio\")\n",
        "except Exception as e:\n",
        "    # Imprimiendo un mensaje de error en caso de excepción\n",
        "    log_error_write(f\"Error creacion de archivo csv: {e}\", 'creacion archivo tabla tidy Incidencia_Delictiva_Mujeres_Tipo_Delito')\n",
        "    print(f\"Error creacion de archivo csv: {e}\")"
      ]
    },
    {
      "cell_type": "code",
      "execution_count": 103,
      "metadata": {},
      "outputs": [
        {
          "name": "stdout",
          "output_type": "stream",
          "text": [
            "   anio    mes                       tipo_delito  numero_delitos\n",
            "0  2013  Enero                Violencia Familiar           167.0\n",
            "1  2013  Enero                       Negligencia            25.0\n",
            "2  2013  Enero                      Abuso Físico            26.0\n",
            "3  2013  Enero  Incumpl. obligaciones familiares            31.0\n",
            "4  2013  Enero               Omisión de Cuidados            15.0\n"
          ]
        }
      ],
      "source": [
        "print(Incidencia_Delictiva_Mujeres_Tipo_Delito_dfs.head())"
      ]
    },
    {
      "cell_type": "markdown",
      "metadata": {},
      "source": [
        "#### Por Municipio"
      ]
    },
    {
      "cell_type": "code",
      "execution_count": 112,
      "metadata": {},
      "outputs": [
        {
          "name": "stdout",
          "output_type": "stream",
          "text": [
            "    Año  Clave              Municipio  Enero  Febrero  Marzo  Abril  Mayo  \\\n",
            "0  2013      0                 SONORA    284      257    256    307   300   \n",
            "1  2013     30             HERMOSILLO    162      167    146    198   183   \n",
            "2  2013     43                NOGALES     28       21     25     27    20   \n",
            "3  2013     18                 CAJEME     25       17     13     21    22   \n",
            "4  2013     55  SAN LUIS RIO COLORADO     10        8     15     12    12   \n",
            "\n",
            "   Junio  Julio  Agosto  Septiembre  Octubre  Noviembre  Diciembre  \n",
            "0    290    198     286         240      231          0          0  \n",
            "1    174    123     180         132      137          0          0  \n",
            "2     21     21      23          27       15          0          0  \n",
            "3     27     12      14          15       16          0          0  \n",
            "4     12      6      14          11       10          0          0  \n"
          ]
        }
      ],
      "source": [
        "try:\n",
        "    ## Leemos el archivo csv y obtenemos los datos de Sonora\n",
        "    Incidencia_Delictiva_Mujeres_Municipio_df = pd.read_csv(f'{folder_path_data}/CifrasIncidenciaDelictivaContraMujeresMunicipio.csv')\n",
        "\n",
        "    Incidencia_Delictiva_Mujeres_Municipio_df.insert(0, 'Año', Incidencia_Delictiva_Mujeres_Municipio_df.pop('Año'))\n",
        "     # Eliminando las columnas total y porcentaje que se encuentran al final\n",
        "    Incidencia_Delictiva_Mujeres_Municipio_df = Incidencia_Delictiva_Mujeres_Municipio_df.iloc[:, :-2]\n",
        "    print(Incidencia_Delictiva_Mujeres_Municipio_df.head())\n",
        "except Exception as e:\n",
        "    # Imprimiendo un mensaje de error en caso de excepción\n",
        "    log_error_write(f\"Error al leer el archivo CSV: {e}\", 'Lectura de CifrasIncidenciaDelictivaContraMujeresIndicador')\n",
        "    print(f\"Error al leer el archivo CSV: {e}\")"
      ]
    },
    {
      "cell_type": "code",
      "execution_count": 113,
      "metadata": {},
      "outputs": [
        {
          "name": "stdout",
          "output_type": "stream",
          "text": [
            "Columna Año: False\n",
            "Columna Clave: False\n",
            "Columna Municipio: False\n",
            "Columna Enero: False\n",
            "Columna Febrero: False\n",
            "Columna Marzo: False\n",
            "Columna Abril: False\n",
            "Columna Mayo: False\n",
            "Columna Junio: False\n",
            "Columna Julio: False\n",
            "Columna Agosto: False\n",
            "Columna Septiembre: False\n",
            "Columna Octubre: False\n",
            "Columna Noviembre: False\n",
            "Columna Diciembre: False\n"
          ]
        }
      ],
      "source": [
        "try:\n",
        "  if not Incidencia_Delictiva_Mujeres_Municipio_df.empty:\n",
        "    for column in Incidencia_Delictiva_Mujeres_Municipio_df.columns:\n",
        "      print(f'Columna {column}: ' + str(Incidencia_Delictiva_Mujeres_Municipio_df[column].isnull().values.any()))\n",
        "  else:\n",
        "    log_error_write(f\"DataFrame leido vacio\", 'Lectura vacios de Incidencia_Delictiva_Mujeres_Tipo_Delito_df')\n",
        "    print(f\"DataFrame leido vacio\")\n",
        "except Exception as e:\n",
        "    # Imprimiendo un mensaje de error en caso de excepción\n",
        "    log_error_write(f\"Error en la lectura de dataframe: {e}\", 'Lectura vacios de Incidencia_Delictiva_Mujeres_Tipo_Delito_df')\n",
        "    print(f\"Error en la lectura de dataframe: {e}\")"
      ]
    },
    {
      "cell_type": "code",
      "execution_count": 114,
      "metadata": {},
      "outputs": [],
      "source": [
        "try:\n",
        "  if not Incidencia_Delictiva_Mujeres_Municipio_df.empty:\n",
        "    # Pasamos de formato wide a long\n",
        "    Incidencia_Delictiva_Mujeres_Municipio_dfs = Incidencia_Delictiva_Mujeres_Municipio_df.reset_index()\n",
        "    Incidencia_Delictiva_Mujeres_Municipio_dfs = pd.melt(Incidencia_Delictiva_Mujeres_Municipio_dfs, id_vars = list(Incidencia_Delictiva_Mujeres_Municipio_df.columns[0:3]),\n",
        "               value_vars = mes, var_name = 'mes', value_name = 'numero_delitos')\n",
        "  else:\n",
        "    log_error_write(f\"DataFrame leido vacio\", 'Lectura vacios de Incidencia_Delictiva_Mujeres_Municipio_df')\n",
        "    print(f\"DataFrame leido vacio\")\n",
        "except Exception as e:\n",
        "  # Imprimiendo un mensaje de error en caso de excepción\n",
        "  log_error_write(f\"Error en la limpieza de dataframe: {e}\", 'Limpieza Incidencia_Delictiva_Mujeres_Municipio_df 1')\n",
        "  print(f\"Error en la limpieza de dataframe: {e}\")"
      ]
    },
    {
      "cell_type": "code",
      "execution_count": 115,
      "metadata": {},
      "outputs": [],
      "source": [
        "try:\n",
        "  if not Incidencia_Delictiva_Mujeres_Municipio_df.empty:\n",
        "    # Quitamos observaciones en el futuro o no registradas, esto es, observaciones de los meses de Septiembre, Octubre, NOviembre\n",
        "    # y Diciembre del año 2023.\n",
        "    Incidencia_Delictiva_Mujeres_Municipio_dfs = Incidencia_Delictiva_Mujeres_Municipio_dfs.drop(Incidencia_Delictiva_Mujeres_Municipio_dfs[Incidencia_Delictiva_Mujeres_Municipio_dfs['mes'].isin(['Septiembre', 'Octubre', 'Noviembre', 'Diciembre']) & (Incidencia_Delictiva_Mujeres_Municipio_dfs['Año'].astype('string') == '2023')].index)\n",
        "   \n",
        "    Incidencia_Delictiva_Mujeres_Municipio_dfs = Incidencia_Delictiva_Mujeres_Municipio_dfs.drop(['Clave'], axis=1)\n",
        "    #Se hace reenombramiento de las distintas columnas de la tabla tidy para que tenga un formato estandar entre todas las demas tablas tidy\n",
        "    Incidencia_Delictiva_Mujeres_Municipio_dfs.rename(columns = {'Año': 'anio'}, inplace = True)\n",
        "    Incidencia_Delictiva_Mujeres_Municipio_dfs.rename(columns = {'Tipo de delito': 'tipo_delito'}, inplace = True)\n",
        "\n",
        "    Incidencia_Delictiva_Mujeres_Municipio_dfs['numero_delitos'] = Incidencia_Delictiva_Mujeres_Municipio_dfs['numero_delitos'].round(2).astype(float)\n",
        "    Incidencia_Delictiva_Mujeres_Municipio_dfs.insert(1, 'mes', Incidencia_Delictiva_Mujeres_Municipio_dfs.pop('mes'))\n",
        "\n",
        "    for column in Incidencia_Delictiva_Mujeres_Municipio_dfs.columns:\n",
        "            if Incidencia_Delictiva_Mujeres_Municipio_dfs[column].dtype == 'object':\n",
        "                Incidencia_Delictiva_Mujeres_Municipio_dfs[column] = Incidencia_Delictiva_Mujeres_Municipio_dfs[column].apply(lambda x: x.lower().title())\n",
        "  else:\n",
        "      log_error_write(f\"DataFrame leido vacio\", 'Limpieza Incidencia_Delictiva_Mujeres_Tipo_Delito_df')\n",
        "      print(f\"DataFrame leido vacio\")\n",
        "except Exception as e:\n",
        "    # Imprimiendo un mensaje de error en caso de excepción\n",
        "    log_error_write(f\"Error en la limpieza de dataframe: {e}\", 'Limpieza Incidencia_Delictiva_Mujeres_Tipo_Delito_df_ 2')\n",
        "    print(f\"Error en la limpieza de dataframe: {e}\")"
      ]
    },
    {
      "cell_type": "code",
      "execution_count": 116,
      "metadata": {},
      "outputs": [
        {
          "name": "stdout",
          "output_type": "stream",
          "text": [
            "(9344, 4)\n"
          ]
        }
      ],
      "source": [
        "if not Incidencia_Delictiva_Mujeres_Municipio_df.empty:\n",
        "    print(Incidencia_Delictiva_Mujeres_Municipio_dfs.shape)"
      ]
    },
    {
      "cell_type": "code",
      "execution_count": 117,
      "metadata": {},
      "outputs": [
        {
          "name": "stdout",
          "output_type": "stream",
          "text": [
            "DataFrame (tabla tidy) guardado exitosamente en ../tidydata\\Incidencia_Delictiva_Mujeres_Municipio.csv\n"
          ]
        }
      ],
      "source": [
        "try:\n",
        "  if not Incidencia_Delictiva_Mujeres_Municipio_df.empty:\n",
        "    create_csv_from_DataFrame(Incidencia_Delictiva_Mujeres_Municipio_dfs, f'Incidencia_Delictiva_Mujeres_Municipio.csv')\n",
        "  else:\n",
        "      log_error_write(f\"DataFrame leido vacio\", 'Lectura vacios de Incidencia_Delictiva_Mujeres_Municipio_df')\n",
        "      print(f\"DataFrame leido vacio\")\n",
        "except Exception as e:\n",
        "    # Imprimiendo un mensaje de error en caso de excepción\n",
        "    log_error_write(f\"Error creacion de archivo csv: {e}\", 'creacion archivo tabla tidy Incidencia_Delictiva_Mujeres_Municipio')\n",
        "    print(f\"Error creacion de archivo csv: {e}\")"
      ]
    },
    {
      "cell_type": "code",
      "execution_count": 118,
      "metadata": {},
      "outputs": [
        {
          "name": "stdout",
          "output_type": "stream",
          "text": [
            "   anio    mes              Municipio  numero_delitos\n",
            "0  2013  Enero                 Sonora           284.0\n",
            "1  2013  Enero             Hermosillo           162.0\n",
            "2  2013  Enero                Nogales            28.0\n",
            "3  2013  Enero                 Cajeme            25.0\n",
            "4  2013  Enero  San Luis Rio Colorado            10.0\n"
          ]
        }
      ],
      "source": [
        "print(Incidencia_Delictiva_Mujeres_Municipio_dfs.head())"
      ]
    },
    {
      "cell_type": "markdown",
      "metadata": {},
      "source": [
        "## Datos tidy sobre el clima"
      ]
    },
    {
      "cell_type": "markdown",
      "metadata": {},
      "source": [
        "#### Obtención de datos meteorológicos y climatológicos"
      ]
    },
    {
      "cell_type": "code",
      "execution_count": 479,
      "metadata": {},
      "outputs": [],
      "source": [
        "# Leemos archivo csv de los datos raw de clima\n",
        "try:\n",
        "   dfclima = pd.read_csv(f'{folder_path_data}/DatosClimaMunicipal.csv')\n",
        "except Exception as e:\n",
        "    # Imprimiendo un mensaje de error en caso de excepción\n",
        "    log_error_write(f\"Error al leer el archivo CSV: {e}\", 'Lectura de DatosClimaMunicipal')\n",
        "    print(f\"Error al leer el archivo CSV: {e}\")"
      ]
    },
    {
      "cell_type": "markdown",
      "metadata": {},
      "source": [
        "#### Primer proceso de limpieza y reorganización de la estructura original para crear la tabla tidy correspondiente"
      ]
    },
    {
      "cell_type": "code",
      "execution_count": 480,
      "metadata": {},
      "outputs": [],
      "source": [
        "try:\n",
        "  if not dfclima.empty:\n",
        "    #Renombramos previamente algunas columnas para facilitar el manejo del dataframe\n",
        "    dfclima.rename(columns = {'time':'Dia', 'temperature_2m_max': 'Temp_max',\n",
        "                            'temperature_2m_min':'Temp_min', 'sunrise':'Salida_sol',\n",
        "                            'sunset':'Puesta_sol', 'rain_sum':'Lluvia', \n",
        "                            'precipitation_hours': 'Tiempo_precipitacion',\n",
        "                            'temperature_2m_mean': 'Temperatura_promedio',\n",
        "                            'precipitation_sum':'Precipitacion_total',\n",
        "                            'municipio': 'Municipio'}, inplace = True)\n",
        "  else:\n",
        "      log_error_write(f\"DataFrame leido vacio\", 'Lectura vacios de dfclima')\n",
        "      print(f\"DataFrame leido vacio\")\n",
        "except Exception as e:\n",
        "    # Imprimiendo un mensaje de error en caso de excepción\n",
        "    log_error_write(f\"Error renombramiento: {e}\", 'renombramiento del dataframe dfclima')\n",
        "    print(f\"Error renombramiento: {e}\")"
      ]
    },
    {
      "cell_type": "code",
      "execution_count": 481,
      "metadata": {},
      "outputs": [],
      "source": [
        "# Asignamos a fecha_final la última fecha a considerar en nuestros datos, transformamos la columna con la fecha\n",
        "# a tipo de dato datetime y removemos todos aquellos registros que estén despues de fecha_final\n",
        "try:\n",
        "  if not dfclima.empty:\n",
        "    fecha_final = np.datetime64('2023-09-29')\n",
        "    dfclima['Dia'] = pd.to_datetime(dfclima['Dia'])\n",
        "    dfclima = dfclima.drop(dfclima[dfclima['Dia'] >= fecha_final].index)\n",
        "\n",
        "  else:\n",
        "    log_error_write(f\"DataFrame leido vacio\", 'Lectura vacios de dfclima')\n",
        "    print(f\"DataFrame leido vacio\")\n",
        "except Exception as e:\n",
        "    # Imprimiendo un mensaje de error en caso de excepción\n",
        "    log_error_write(f\"Error renombramiento: {e}\", 'Limpieza dfclima 1')\n",
        "    print(f\"Error renombramiento: {e}\")"
      ]
    },
    {
      "cell_type": "code",
      "execution_count": 482,
      "metadata": {},
      "outputs": [],
      "source": [
        "# Separamos la columna con la fecha en año y mes, y las anexamos al dataframe\n",
        "try:\n",
        "  if not dfclima.empty:\n",
        "    columna_anio = dfclima['Dia'].dt.year\n",
        "    columna_mes = dfclima['Dia'].dt.month\n",
        "\n",
        "    dfclima.insert(0, 'anio', columna_anio)\n",
        "    dfclima.insert(1, 'mes', columna_mes)\n",
        "\n",
        "    dfclima['Dia'] = dfclima['Dia'].dt.day\n",
        "\n",
        "    # Transformamos las columnas que corresponden a la salida y puesta de sol a tipo de dato datetime\n",
        "    dfclima['Salida_sol'] = pd.to_datetime(dfclima['Salida_sol'])\n",
        "    dfclima['Puesta_sol'] = pd.to_datetime(dfclima['Puesta_sol'])\n",
        "  else:\n",
        "    log_error_write(f\"DataFrame leido vacio\", 'Lectura vacios de dfclima')\n",
        "    print(f\"DataFrame leido vacio\")\n",
        "except Exception as e:\n",
        "    # Imprimiendo un mensaje de error en caso de excepción\n",
        "    log_error_write(f\"Error renombramiento: {e}\", 'Limpieza dfclima 2')\n",
        "    print(f\"Error renombramiento: {e}\")"
      ]
    },
    {
      "cell_type": "code",
      "execution_count": 483,
      "metadata": {},
      "outputs": [
        {
          "name": "stdout",
          "output_type": "stream",
          "text": [
            "   anio  mes  Dia  Temp_max  Temp_min  Temperatura_promedio  \\\n",
            "0  2015    1    1      14.6       8.6                  11.0   \n",
            "1  2015    1    2      12.1       3.4                   7.5   \n",
            "2  2015    1    3      16.3      -0.6                   7.4   \n",
            "3  2015    1    4      22.7       3.5                  11.5   \n",
            "4  2015    1    5      24.3       5.8                  13.6   \n",
            "\n",
            "           Salida_sol          Puesta_sol  Precipitacion_total  Lluvia  \\\n",
            "0 2015-01-01 07:16:00 2015-01-01 17:32:00                  0.1     0.1   \n",
            "1 2015-01-02 07:16:00 2015-01-02 17:33:00                  0.0     0.0   \n",
            "2 2015-01-03 07:16:00 2015-01-03 17:33:00                  0.0     0.0   \n",
            "3 2015-01-04 07:16:00 2015-01-04 17:34:00                  0.0     0.0   \n",
            "4 2015-01-05 07:17:00 2015-01-05 17:35:00                  0.0     0.0   \n",
            "\n",
            "   Tiempo_precipitacion Municipio  \n",
            "0                   1.0   Aconchi  \n",
            "1                   0.0   Aconchi  \n",
            "2                   0.0   Aconchi  \n",
            "3                   0.0   Aconchi  \n",
            "4                   0.0   Aconchi  \n"
          ]
        }
      ],
      "source": [
        "if not dfclima.empty:\n",
        "    print(dfclima.head())"
      ]
    },
    {
      "cell_type": "code",
      "execution_count": 484,
      "metadata": {},
      "outputs": [
        {
          "name": "stdout",
          "output_type": "stream",
          "text": [
            "Columna anio: False\n",
            "Columna mes: False\n",
            "Columna Dia: False\n",
            "Columna Temp_max: False\n",
            "Columna Temp_min: False\n",
            "Columna Temperatura_promedio: False\n",
            "Columna Salida_sol: False\n",
            "Columna Puesta_sol: False\n",
            "Columna Precipitacion_total: False\n",
            "Columna Lluvia: False\n",
            "Columna Tiempo_precipitacion: False\n",
            "Columna Municipio: False\n"
          ]
        }
      ],
      "source": [
        "# Verificamos si existen datos faltantes\n",
        "try:\n",
        "  if not dfclima.empty:\n",
        "    for column in dfclima.columns:\n",
        "      print(f'Columna {column}: ' + str(dfclima[column].isnull().values.any()))\n",
        "  else:\n",
        "    log_error_write(f\"DataFrame leido vacio\", 'Lectura vacios de dfclima')\n",
        "    print(f\"DataFrame leido vacio\")\n",
        "except Exception as e:\n",
        "    # Imprimiendo un mensaje de error en caso de excepción\n",
        "    log_error_write(f\"Error en la lectura de dataframe: {e}\", 'Lectura vacios de dfclima')\n",
        "    print(f\"Error en la lectura de dataframe: {e}\")"
      ]
    },
    {
      "cell_type": "code",
      "execution_count": 485,
      "metadata": {},
      "outputs": [],
      "source": [
        "try:\n",
        "  if not dfclima.empty:\n",
        "    # Obtenemos la salida y puesta de sol en minutos, y asignamos estos datos a dos nuevas \n",
        "    # columnas: sal_sol y puesta_sol\n",
        "    dfclima['salida_sol'] = dfclima['Salida_sol'].map(lambda x: (x.hour)*60 + x.minute)\n",
        "    dfclima['puesta_sol'] = dfclima['Puesta_sol'].map(lambda x: (x.hour)*60 + x.minute)\n",
        "\n",
        "    # Calculamos la cantidad de tiempo en minutos en los que hay luz restando las dos columnas anteriores\n",
        "    dfclima['minutos_luz'] = dfclima['puesta_sol'] - dfclima['salida_sol']\n",
        "  else:\n",
        "    log_error_write(f\"DataFrame leido vacio\", 'Lectura vacios de dfclima')\n",
        "    print(f\"DataFrame leido vacio\")\n",
        "except Exception as e:\n",
        "    # Imprimiendo un mensaje de error en caso de excepción\n",
        "    log_error_write(f\"Error renombramiento: {e}\", 'Limpieza dfclima 2')\n",
        "    print(f\"Error renombramiento: {e}\")"
      ]
    },
    {
      "cell_type": "markdown",
      "metadata": {},
      "source": [
        "## Meteorologia_Climatologia_Municipal"
      ]
    },
    {
      "cell_type": "markdown",
      "metadata": {},
      "source": [
        "#### Segundo proceso de limpieza y reorganización de la estructura original para crear la tabla tidy correspondiente los datos meteorológicos y climatológicos a nivel municipal"
      ]
    },
    {
      "cell_type": "code",
      "execution_count": 486,
      "metadata": {},
      "outputs": [],
      "source": [
        "try:\n",
        "  if not dfclima.empty:\n",
        "    # Agrupamos el dataframe dfclima por año, mes y municipio, y utilizamos distintas funciones de agregación\n",
        "    dfclima_mes = dfclima.groupby(['anio','mes','Municipio'], as_index = False).agg({'Temperatura_promedio': ['mean'],\n",
        "                                                    'Temp_max': ['mean'], 'Temp_min': ['mean'],\n",
        "                                                    'Tiempo_precipitacion': 'sum', 'Lluvia':'sum',\n",
        "                                                    'Precipitacion_total': 'sum', 'minutos_luz' : 'mean',\n",
        "                                                    'salida_sol': 'mean', 'puesta_sol': 'mean'})\n",
        "  else:\n",
        "    log_error_write(f\"DataFrame leido vacio\", 'Lectura vacios de dfclima')\n",
        "    print(f\"DataFrame leido vacio\")\n",
        "except Exception as e:\n",
        "    # Imprimiendo un mensaje de error en caso de excepción\n",
        "    log_error_write(f\"Error renombramiento: {e}\", 'Agrupamiento de datafrane dfclima (municipal)')\n",
        "    print(f\"Error renombramiento: {e}\")"
      ]
    },
    {
      "cell_type": "code",
      "execution_count": 487,
      "metadata": {},
      "outputs": [],
      "source": [
        "# Creamos un diccionario que devuelve el mes dado su valor ordinal en el calendario\n",
        "dict_mes = {\n",
        "    1 : 'Enero',\n",
        "    2 : 'Febrero',\n",
        "    3 : 'Marzo',\n",
        "    4 : 'Abril',\n",
        "    5 : 'Mayo',\n",
        "    6 : 'Junio',\n",
        "    7 : 'Julio',\n",
        "    8 : 'Agosto',\n",
        "    9 : 'Septiembre',\n",
        "    10 : 'Octubre',\n",
        "    11 : 'Noviembre',\n",
        "    12 : 'Diciembre'\n",
        "}"
      ]
    },
    {
      "cell_type": "code",
      "execution_count": 488,
      "metadata": {},
      "outputs": [],
      "source": [
        "try:\n",
        "  if not dfclima.empty:\n",
        "    # Eliminamos el multiíndice que se obtiene al momento de utilizar la función groupby\n",
        "    dfclima_mes.columns = dfclima_mes.columns.to_flat_index()\n",
        "  else:\n",
        "    log_error_write(f\"DataFrame leido vacio\", 'Lectura vacios de dfclima')\n",
        "    print(f\"DataFrame leido vacio\")\n",
        "except Exception as e:\n",
        "    # Imprimiendo un mensaje de error en caso de excepción\n",
        "    log_error_write(f\"Error renombramiento: {e}\", 'Limpieza dfclima 1 (municipal)')\n",
        "    print(f\"Error renombramiento: {e}\")"
      ]
    },
    {
      "cell_type": "code",
      "execution_count": 489,
      "metadata": {},
      "outputs": [
        {
          "data": {
            "text/plain": [
              "Index([                    ('anio', ''),                      ('mes', ''),\n",
              "                      ('Municipio', ''), ('Temperatura_promedio', 'mean'),\n",
              "                   ('Temp_max', 'mean'),             ('Temp_min', 'mean'),\n",
              "        ('Tiempo_precipitacion', 'sum'),                ('Lluvia', 'sum'),\n",
              "         ('Precipitacion_total', 'sum'),          ('minutos_luz', 'mean'),\n",
              "                 ('salida_sol', 'mean'),           ('puesta_sol', 'mean')],\n",
              "      dtype='object')"
            ]
          },
          "execution_count": 489,
          "metadata": {},
          "output_type": "execute_result"
        }
      ],
      "source": [
        "dfclima_mes.columns"
      ]
    },
    {
      "cell_type": "code",
      "execution_count": 490,
      "metadata": {},
      "outputs": [],
      "source": [
        "try:\n",
        "  if not dfclima.empty:\n",
        "    # Creamos columna Mes con los meses correspondientes con nombre, no valor ordinal, así como la colummna Entidad\n",
        "    dfclima_mes['Mes'] = dfclima_mes[('mes', '')].map(lambda x : dict_mes[x])\n",
        "    dfclima_mes['entidad'] = 'Sonora'\n",
        "\n",
        "    # Redondeamos el promedio de salida y puesta de sol y las ponemos en formato HH:MM\n",
        "    dfclima_mes[('salida_sol', 'mean')] = dfclima_mes[('salida_sol', 'mean')].round()\n",
        "    dfclima_mes[('puesta_sol', 'mean')] = dfclima_mes[('puesta_sol', 'mean')].round()\n",
        "    dfclima_mes['salida_sol'] = dfclima_mes[('salida_sol', 'mean')].map(lambda x: \n",
        "                                                                    str(int(x // 60)) + ':' + \"{:02d}\".format(int(x % 60)))\n",
        "    dfclima_mes['puesta_sol'] = dfclima_mes[('puesta_sol', 'mean')].map(lambda x: \n",
        "                                                                    str(int(x // 60)) + ':' + \"{:02d}\".format(int(x % 60)))\n",
        "  else:\n",
        "    log_error_write(f\"DataFrame leido vacio\", 'Lectura vacios de dfclima')\n",
        "    print(f\"DataFrame leido vacio\")\n",
        "except Exception as e:\n",
        "    # Imprimiendo un mensaje de error en caso de excepción\n",
        "    log_error_write(f\"Error renombramiento: {e}\", 'Limpieza dfclima 2 (municipal)')\n",
        "    print(f\"Error renombramiento: {e}\")"
      ]
    },
    {
      "cell_type": "code",
      "execution_count": 491,
      "metadata": {},
      "outputs": [
        {
          "name": "stdout",
          "output_type": "stream",
          "text": [
            "Index([                    ('anio', ''),                      ('mes', ''),\n",
            "                      ('Municipio', ''), ('Temperatura_promedio', 'mean'),\n",
            "                   ('Temp_max', 'mean'),             ('Temp_min', 'mean'),\n",
            "        ('Tiempo_precipitacion', 'sum'),                ('Lluvia', 'sum'),\n",
            "         ('Precipitacion_total', 'sum'),          ('minutos_luz', 'mean'),\n",
            "                 ('salida_sol', 'mean'),           ('puesta_sol', 'mean'),\n",
            "                                  'Mes',                        'entidad',\n",
            "                           'salida_sol',                     'puesta_sol'],\n",
            "      dtype='object')\n"
          ]
        }
      ],
      "source": [
        "if not dfclima.empty:\n",
        "    print(dfclima_mes.columns)"
      ]
    },
    {
      "cell_type": "code",
      "execution_count": 492,
      "metadata": {},
      "outputs": [],
      "source": [
        "if not dfclima.empty:\n",
        "    # Quitamos columna mes antigua\n",
        "    dfclima_mes = dfclima_mes.drop([('mes', '')], axis = 1)"
      ]
    },
    {
      "cell_type": "code",
      "execution_count": 493,
      "metadata": {},
      "outputs": [],
      "source": [
        "try:\n",
        "  if not dfclima_mes.empty:\n",
        "    # Renombramos las nuevas columnas\n",
        "    dfclima_mes.rename(columns = {('anio', ''):'anio', ('Municipio', ''):'municipio',\n",
        "                            ('Temp_max', 'mean'):'temperatura_maxima',\n",
        "                            ('Temp_min', 'mean'):'temperatura_minima', ('Temperatura_promedio', 'mean'):'temperatura_promedio', \n",
        "                            ('Precipitacion_total', 'sum'): 'precipitacion_total',\n",
        "                            ('Lluvia', 'sum'): 'lluvia_total',\n",
        "                            ('Tiempo_precipitacion', 'sum'):'tiempo_precipitacion',\n",
        "                            ('minutos_luz', 'mean'):'minutos_luz', 'Mes': 'mes'}, inplace = True)\n",
        "  else:\n",
        "      log_error_write(f\"DataFrame leido vacio\", 'Lectura vacios de dfclima_mes')\n",
        "      print(f\"DataFrame leido vacio\")\n",
        "except Exception as e:\n",
        "    # Imprimiendo un mensaje de error en caso de excepción\n",
        "    log_error_write(f\"Error renombramiento: {e}\", 'renombramiento del dataframe dfclima_mes')\n",
        "    print(f\"Error renombramiento: {e}\")"
      ]
    },
    {
      "cell_type": "code",
      "execution_count": 494,
      "metadata": {},
      "outputs": [],
      "source": [
        "if not dfclima_mes.empty:\n",
        "    #Quitamos columnas ('salida_sol', 'mean') y ('puesta_sol', 'mean') antiguas y se obtiene \n",
        "    # el dataframe final por municipio\n",
        "    df_clima_mun = dfclima_mes.drop([('salida_sol', 'mean'), ('puesta_sol', 'mean')], axis = 1)"
      ]
    },
    {
      "cell_type": "code",
      "execution_count": 495,
      "metadata": {},
      "outputs": [
        {
          "name": "stdout",
          "output_type": "stream",
          "text": [
            "   anio    municipio  temperatura_promedio  temperatura_maxima  \\\n",
            "0  2015      Aconchi             15.054839           22.374194   \n",
            "1  2015  Agua-Prieta             10.961290           18.087097   \n",
            "2  2015       Alamos             18.258065           25.367742   \n",
            "\n",
            "   temperatura_minima  tiempo_precipitacion  lluvia_total  \\\n",
            "0            8.912903                  56.0          81.7   \n",
            "1            4.622581                  68.0          60.7   \n",
            "2           12.309677                  47.0          45.0   \n",
            "\n",
            "   precipitacion_total  minutos_luz    mes entidad salida_sol puesta_sol  \n",
            "0                 81.7   628.645161  Enero  Sonora       7:15      17:44  \n",
            "1                 60.7   624.064516  Enero  Sonora       7:14      17:38  \n",
            "2                 45.0   639.419355  Enero  Sonora       7:05      17:44  \n"
          ]
        }
      ],
      "source": [
        "if not dfclima_mes.empty:\n",
        "    print(df_clima_mun.head(3))"
      ]
    },
    {
      "cell_type": "code",
      "execution_count": 496,
      "metadata": {},
      "outputs": [],
      "source": [
        "if not df_clima_mun.empty:\n",
        "    # Ordenamos las columnas \n",
        "    df_clima_mun = df_clima_mun[['anio', 'mes', 'entidad',\n",
        "                                'municipio', 'temperatura_maxima',\n",
        "                                'temperatura_minima', 'temperatura_promedio', 'salida_sol',\n",
        "                                'puesta_sol', 'precipitacion_total', 'lluvia_total', 'tiempo_precipitacion', 'minutos_luz']]"
      ]
    },
    {
      "cell_type": "code",
      "execution_count": 497,
      "metadata": {},
      "outputs": [],
      "source": [
        "try:\n",
        "  if not df_clima_mun.empty:\n",
        "    # Redondeamos con dos decimales las columnas mostradas\n",
        "    df_clima_mun[['temperatura_maxima', 'temperatura_minima']] = df_clima_mun[['temperatura_maxima', 'temperatura_minima']].round(decimals = 2)\n",
        "    df_clima_mun[['temperatura_promedio', 'minutos_luz']] = df_clima_mun[['temperatura_promedio', 'minutos_luz']].round(decimals = 2)\n",
        "    df_clima_mun[['precipitacion_total', 'lluvia_total']] = df_clima_mun[['precipitacion_total', 'lluvia_total']].round(decimals = 2)\n",
        "  else:\n",
        "    log_error_write(f\"DataFrame leido vacio\", 'Lectura vacios de df_clima_mun')\n",
        "    print(f\"DataFrame leido vacio\")\n",
        "except Exception as e:\n",
        "    # Imprimiendo un mensaje de error en caso de excepción\n",
        "    log_error_write(f\"Error renombramiento: {e}\", 'Limpieza df_clima_mun 1 (municipal)')\n",
        "    print(f\"Error renombramiento: {e}\")"
      ]
    },
    {
      "cell_type": "code",
      "execution_count": 498,
      "metadata": {},
      "outputs": [],
      "source": [
        "try:\n",
        "  if not dfclima.empty:\n",
        "    # Reemplazar caracteres especiales por espacios en la columna 'columna'\n",
        "    df_clima_mun['municipio'] = df_clima_mun['municipio'].replace('[^a-zA-Z0-9 ]', ' ', regex=True)\n",
        "  else:\n",
        "    log_error_write(f\"DataFrame leido vacio\", 'Lectura vacios de dfclima')\n",
        "    print(f\"DataFrame leido vacio\")\n",
        "except Exception as e:\n",
        "    # Imprimiendo un mensaje de error en caso de excepción\n",
        "    log_error_write(f\"Error renombramiento: {e}\", 'Limpieza df_clima_mun 2 (municipal)')\n",
        "    print(f\"Error renombramiento: {e}\")"
      ]
    },
    {
      "cell_type": "code",
      "execution_count": 499,
      "metadata": {},
      "outputs": [],
      "source": [
        "try:\n",
        "  if not dfclima.empty:\n",
        "    # Normalizando las columnas en comun (municipio) antes de hacer el merge y agregar al columna region a la tabla tidy\n",
        "    df_clima_mun['municipio_normalizada'] = df_clima_mun['municipio'].apply(unidecode)\n",
        "    municipios_regiones['municipio_normalizada'] = municipios_regiones['municipio'].apply(unidecode)\n",
        "\n",
        "    df_clima_mun = pd.merge(df_clima_mun, municipios_regiones, on='municipio_normalizada', how='left')\n",
        "\n",
        "    df_clima_mun.drop(['municipio_normalizada', 'municipio_y'], axis=1, inplace=True)\n",
        "    df_clima_mun.rename(columns = {'municipio_x': 'municipio'}, inplace = True)\n",
        "    df_clima_mun.rename(columns = {'Region': 'region'}, inplace = True)\n",
        "\n",
        "    df_clima_mun.insert(3, 'region', df_clima_mun.pop('region'))\n",
        "    df_clima_mun.insert(10, 'minutos_luz', df_clima_mun.pop('minutos_luz'))\n",
        "  else:\n",
        "    log_error_write(f\"DataFrame leido vacio\", 'Lectura vacios de dfclima')\n",
        "    print(f\"DataFrame leido vacio\")\n",
        "except Exception as e:\n",
        "    # Imprimiendo un mensaje de error en caso de excepción\n",
        "    log_error_write(f\"Error renombramiento: {e}\", 'Limpieza df_clima_mun 3 (municipal)')\n",
        "    print(f\"Error renombramiento: {e}\")"
      ]
    },
    {
      "cell_type": "code",
      "execution_count": 500,
      "metadata": {},
      "outputs": [
        {
          "name": "stdout",
          "output_type": "stream",
          "text": [
            "Columna anio: False\n",
            "Columna mes: False\n",
            "Columna entidad: False\n",
            "Columna region: False\n",
            "Columna municipio: False\n",
            "Columna temperatura_maxima: False\n",
            "Columna temperatura_minima: False\n",
            "Columna temperatura_promedio: False\n",
            "Columna salida_sol: False\n",
            "Columna puesta_sol: False\n",
            "Columna minutos_luz: False\n",
            "Columna precipitacion_total: False\n",
            "Columna lluvia_total: False\n",
            "Columna tiempo_precipitacion: False\n"
          ]
        }
      ],
      "source": [
        "try:\n",
        "  if not dfclima.empty:\n",
        "    # Verificamos si existen otros datos faltantes\n",
        "    for column in df_clima_mun.columns:\n",
        "      print(f'Columna {column}: ' + str(df_clima_mun[column].isnull().values.any()))\n",
        "  else:\n",
        "    log_error_write(f\"DataFrame leido vacio\", 'Lectura vacios de dfclima')\n",
        "    print(f\"DataFrame leido vacio\")\n",
        "except Exception as e:\n",
        "    # Imprimiendo un mensaje de error en caso de excepción\n",
        "    log_error_write(f\"Error en la lectura de dataframe: {e}\", 'Lectura vacios de df_clima_mun')\n",
        "    print(f\"Error en la lectura de dataframe: {e}\")"
      ]
    },
    {
      "cell_type": "code",
      "execution_count": 501,
      "metadata": {},
      "outputs": [
        {
          "name": "stdout",
          "output_type": "stream",
          "text": [
            "   anio    mes entidad       region    municipio  temperatura_maxima  \\\n",
            "0  2015  Enero  Sonora   Río Sonora      Aconchi               22.37   \n",
            "1  2015  Enero  Sonora  Sierra Alta  Agua Prieta               18.09   \n",
            "2  2015  Enero  Sonora          Sur       Alamos               25.37   \n",
            "3  2015  Enero  Sonora     Noraeste        Altar               22.10   \n",
            "\n",
            "   temperatura_minima  temperatura_promedio salida_sol puesta_sol  \\\n",
            "0                8.91                 15.05       7:15      17:44   \n",
            "1                4.62                 10.96       7:14      17:38   \n",
            "2               12.31                 18.26       7:05      17:44   \n",
            "3                7.84                 14.94       7:24      17:49   \n",
            "\n",
            "   minutos_luz  precipitacion_total  lluvia_total  tiempo_precipitacion  \n",
            "0       628.65                 81.7          81.7                  56.0  \n",
            "1       624.06                 60.7          60.7                  68.0  \n",
            "2       639.42                 45.0          45.0                  47.0  \n",
            "3       625.16                 38.1          38.1                  53.0  \n"
          ]
        }
      ],
      "source": [
        "if not dfclima.empty:\n",
        "    print(df_clima_mun.head(4))"
      ]
    },
    {
      "cell_type": "markdown",
      "metadata": {},
      "source": [
        "#### Generacion de archivo que contiene los datos de la tabla tidy Meteorologia_Climatologia_Municipal"
      ]
    },
    {
      "cell_type": "code",
      "execution_count": 502,
      "metadata": {},
      "outputs": [
        {
          "name": "stdout",
          "output_type": "stream",
          "text": [
            "DataFrame (tabla tidy) guardado exitosamente en ../tidydata\\Meteorologia_Climatologia_Municipal.csv\n"
          ]
        }
      ],
      "source": [
        "# Pasamos este dataframe a archivo csv\n",
        "try:\n",
        "  if not dfclima.empty:\n",
        "    create_csv_from_DataFrame(df_clima_mun, f'Meteorologia_Climatologia_Municipal.csv')\n",
        "  else:\n",
        "      log_error_write(f\"DataFrame leido vacio\", 'Lectura vacios de dfclima')\n",
        "      print(f\"DataFrame leido vacio\")\n",
        "except Exception as e:\n",
        "    # Imprimiendo un mensaje de error en caso de excepción\n",
        "    log_error_write(f\"Error creacion de archivo csv: {e}\", 'creacion archivo tabla tidy Meteorologia_Climatologia_Municipal')\n",
        "    print(f\"Error creacion de archivo csv: {e}\")"
      ]
    },
    {
      "cell_type": "markdown",
      "metadata": {},
      "source": [
        "## Meteorologia_Climatologia_Estatal"
      ]
    },
    {
      "cell_type": "markdown",
      "metadata": {},
      "source": [
        "#### Tercer proceso de limpieza y reorganización de la estructura original para crear la tabla tidy correspondiente los datos meteorológicos y climatológicos a nivel estatal"
      ]
    },
    {
      "cell_type": "code",
      "execution_count": 503,
      "metadata": {},
      "outputs": [],
      "source": [
        "try:\n",
        "  if not dfclima.empty:\n",
        "    # Agrupamos el dataframe dfclima con año y mes, y utilizamos distintas funciones de agregación\n",
        "    dfclima_est = dfclima.groupby(['anio','mes'], as_index = False).agg({'Temperatura_promedio': ['mean'],\n",
        "                                                    'Temp_max': ['mean'], 'Temp_min': ['mean'],\n",
        "                                                    'Tiempo_precipitacion': 'sum', 'Lluvia':'sum',\n",
        "                                                    'Precipitacion_total': 'sum', 'minutos_luz' : 'mean',\n",
        "                                                    'salida_sol': 'mean', 'puesta_sol': 'mean'})\n",
        "  else:\n",
        "    log_error_write(f\"DataFrame leido vacio\", 'Lectura vacios de dfclima')\n",
        "    print(f\"DataFrame leido vacio\")\n",
        "except Exception as e:\n",
        "    # Imprimiendo un mensaje de error en caso de excepción\n",
        "    log_error_write(f\"Error renombramiento: {e}\", 'Agrupamiento de datafrane dfclima_est (estatal)')\n",
        "    print(f\"Error renombramiento: {e}\")"
      ]
    },
    {
      "cell_type": "code",
      "execution_count": 504,
      "metadata": {},
      "outputs": [],
      "source": [
        "try:\n",
        "  if not dfclima.empty:\n",
        "    # Quitamos multiíndice obtenido por la función groupby\n",
        "    dfclima_est.columns = dfclima_est.columns.to_flat_index()\n",
        "\n",
        "    # Creamos columna Mes con nombres y la columna entidad\n",
        "    dfclima_est['Mes'] = dfclima_est[('mes', '')].map(lambda x : dict_mes[x])\n",
        "    dfclima_est['entidad'] = 'Sonora'\n",
        "\n",
        "    # Redondeamos el promedio y la salida de la puesta de sol, y creamos salida_sol y puesta_sol con formato HH:MM\n",
        "    dfclima_est[('salida_sol', 'mean')] = dfclima_est[('salida_sol', 'mean')].round()\n",
        "    dfclima_est[('puesta_sol', 'mean')] = dfclima_est[('puesta_sol', 'mean')].round()\n",
        "    dfclima_est['salida_sol'] = dfclima_est[('salida_sol', 'mean')].map(lambda x: \n",
        "                                                                    str(int(x // 60)) + ':' + \"{:02d}\".format(int(x % 60)))\n",
        "    dfclima_est['puesta_sol'] = dfclima_est[('puesta_sol', 'mean')].map(lambda x: \n",
        "                                                                    str(int(x // 60)) + ':' + \"{:02d}\".format(int(x % 60)))\n",
        "  else:\n",
        "    log_error_write(f\"DataFrame leido vacio\", 'Lectura vacios de dfclima')\n",
        "    print(f\"DataFrame leido vacio\")\n",
        "except Exception as e:\n",
        "    # Imprimiendo un mensaje de error en caso de excepción\n",
        "    log_error_write(f\"Error renombramiento: {e}\", 'Limpieza dfclima_est 1 (estatal)')\n",
        "    print(f\"Error renombramiento: {e}\")"
      ]
    },
    {
      "cell_type": "code",
      "execution_count": 505,
      "metadata": {},
      "outputs": [
        {
          "name": "stdout",
          "output_type": "stream",
          "text": [
            "Index([                    ('anio', ''),                      ('mes', ''),\n",
            "       ('Temperatura_promedio', 'mean'),             ('Temp_max', 'mean'),\n",
            "                   ('Temp_min', 'mean'),  ('Tiempo_precipitacion', 'sum'),\n",
            "                      ('Lluvia', 'sum'),   ('Precipitacion_total', 'sum'),\n",
            "                ('minutos_luz', 'mean'),           ('salida_sol', 'mean'),\n",
            "                 ('puesta_sol', 'mean'),                            'Mes',\n",
            "                              'entidad',                     'salida_sol',\n",
            "                           'puesta_sol'],\n",
            "      dtype='object')\n"
          ]
        }
      ],
      "source": [
        "if not dfclima.empty:\n",
        "    print(dfclima_est.columns)"
      ]
    },
    {
      "cell_type": "code",
      "execution_count": 506,
      "metadata": {},
      "outputs": [],
      "source": [
        "try:\n",
        "  if not dfclima.empty:\n",
        "    # Eliminamos columna mes antigua\n",
        "    dfclima_est = dfclima_est.drop([('mes', '')], axis = 1)\n",
        "  else:\n",
        "    log_error_write(f\"DataFrame leido vacio\", 'Lectura vacios de dfclima')\n",
        "    print(f\"DataFrame leido vacio\")\n",
        "except Exception as e:\n",
        "    # Imprimiendo un mensaje de error en caso de excepción\n",
        "    log_error_write(f\"Error renombramiento: {e}\", 'Limpieza dfclima_est 2 (estatal)')\n",
        "    print(f\"Error renombramiento: {e}\")"
      ]
    },
    {
      "cell_type": "code",
      "execution_count": 507,
      "metadata": {},
      "outputs": [],
      "source": [
        "try:\n",
        "  if not dfclima.empty:\n",
        "    # Renombramos columnas\n",
        "    dfclima_est.rename(columns = {('anio', ''):'anio',\n",
        "                            ('Temp_max', 'mean'):'temperatura_maxima',\n",
        "                            ('Temp_min', 'mean'):'temperatura_minima', ('Temperatura_promedio', 'mean'):'temperatura_promedio', \n",
        "                            ('Precipitacion_total', 'sum'): 'precipitacion_total',\n",
        "                            ('Lluvia', 'sum'): 'lluvia_total',\n",
        "                            ('Tiempo_precipitacion', 'sum'):'tiempo_precipitacion',\n",
        "                            ('minutos_luz', 'mean'):'minutos_luz', 'Mes': 'mes'}, inplace = True)\n",
        "  else:\n",
        "    log_error_write(f\"DataFrame leido vacio\", 'Lectura vacios de dfclima')\n",
        "    print(f\"DataFrame leido vacio\")\n",
        "except Exception as e:\n",
        "    # Imprimiendo un mensaje de error en caso de excepción\n",
        "    log_error_write(f\"Error renombramiento: {e}\", 'renombramiento del dataframe dfclima_est 1 (estatal)')\n",
        "    print(f\"Error renombramiento: {e}\")"
      ]
    },
    {
      "cell_type": "code",
      "execution_count": 508,
      "metadata": {},
      "outputs": [],
      "source": [
        "try:\n",
        "  if not dfclima.empty:\n",
        "    #Quitamos columnas ('salida_sol', 'mean') y ('puesta_sol', 'mean') antiguas y se obtiene \n",
        "    # el dataframe final por municipio, ordenando también las columnas\n",
        "    df_clima_est = dfclima_est.drop([('salida_sol', 'mean'), ('puesta_sol', 'mean')], axis = 1)\n",
        "    df_clima_est = df_clima_est[['anio', 'mes', 'entidad', 'temperatura_maxima',\n",
        "                                'temperatura_minima', 'temperatura_promedio', 'salida_sol',\n",
        "                                'puesta_sol', 'precipitacion_total', 'lluvia_total', 'tiempo_precipitacion', 'minutos_luz']]\n",
        "  else:\n",
        "    log_error_write(f\"DataFrame leido vacio\", 'Lectura vacios de dfclima')\n",
        "    print(f\"DataFrame leido vacio\")\n",
        "except Exception as e:\n",
        "    # Imprimiendo un mensaje de error en caso de excepción\n",
        "    log_error_write(f\"Error renombramiento: {e}\", 'Limpieza dfclima_est 3 (estatal)')\n",
        "    print(f\"Error renombramiento: {e}\")"
      ]
    },
    {
      "cell_type": "code",
      "execution_count": 509,
      "metadata": {},
      "outputs": [],
      "source": [
        "try:\n",
        "  if not dfclima.empty:\n",
        "    # Redondeamos con dos decimales las columnas mostradas\n",
        "    df_clima_est[['temperatura_maxima', 'temperatura_minima']] = df_clima_est[['temperatura_maxima', 'temperatura_minima']].round(decimals = 2)\n",
        "    df_clima_est[['temperatura_promedio', 'minutos_luz']] = df_clima_est[['temperatura_promedio', 'minutos_luz']].round(decimals = 2)\n",
        "    df_clima_est[['precipitacion_total', 'lluvia_total']] = df_clima_est[['precipitacion_total', 'lluvia_total']].round(decimals = 2)\n",
        "  else:\n",
        "    log_error_write(f\"DataFrame leido vacio\", 'Lectura vacios de dfclima')\n",
        "    print(f\"DataFrame leido vacio\")\n",
        "except Exception as e:\n",
        "    # Imprimiendo un mensaje de error en caso de excepción\n",
        "    log_error_write(f\"Error renombramiento: {e}\", 'Limpieza dfclima_est 4 (estatal)')\n",
        "    print(f\"Error renombramiento: {e}\")"
      ]
    },
    {
      "cell_type": "code",
      "execution_count": 510,
      "metadata": {},
      "outputs": [
        {
          "name": "stdout",
          "output_type": "stream",
          "text": [
            "   anio      mes entidad  temperatura_maxima  temperatura_minima  \\\n",
            "0  2015    Enero  Sonora               22.37                8.41   \n",
            "1  2015  Febrero  Sonora               25.47               10.48   \n",
            "2  2015    Marzo  Sonora               26.97               12.25   \n",
            "\n",
            "   temperatura_promedio salida_sol puesta_sol  precipitacion_total  \\\n",
            "0                 15.02       7:13      17:43                267.3   \n",
            "1                 17.70       6:58      18:07                108.7   \n",
            "2                 19.81       6:27      18:28                153.1   \n",
            "\n",
            "   lluvia_total  tiempo_precipitacion  minutos_luz  \n",
            "0         267.3                 280.0       629.88  \n",
            "1         108.7                 134.0       669.46  \n",
            "2         153.1                 214.0       720.23  \n"
          ]
        }
      ],
      "source": [
        "if not dfclima.empty:\n",
        "    print(df_clima_est.head(3))"
      ]
    },
    {
      "cell_type": "markdown",
      "metadata": {},
      "source": [
        "#### Generacion de archivo que contiene los datos de la tabla tidy Meteorologia_Climatologia_Estatal"
      ]
    },
    {
      "cell_type": "code",
      "execution_count": 511,
      "metadata": {},
      "outputs": [
        {
          "name": "stdout",
          "output_type": "stream",
          "text": [
            "DataFrame (tabla tidy) guardado exitosamente en ../tidydata\\Meteorologia_Climatologia_Estatal.csv\n"
          ]
        }
      ],
      "source": [
        "# Pasamos este dataframe a archivo csv\n",
        "try:\n",
        "  if not df_clima_est.empty:\n",
        "    create_csv_from_DataFrame(df_clima_est, f'Meteorologia_Climatologia_Estatal.csv')\n",
        "  else:\n",
        "      log_error_write(f\"DataFrame leido vacio\", 'Lectura vacios de df_clima_est')\n",
        "      print(f\"DataFrame leido vacio\")\n",
        "except Exception as e:\n",
        "    # Imprimiendo un mensaje de error en caso de excepción\n",
        "    log_error_write(f\"Error creacion de archivo csv: {e}\", 'creacion archivo tabla tidy Meteorologia_Climatologia_Estatal')\n",
        "    print(f\"Error creacion de archivo csv: {e}\")"
      ]
    },
    {
      "cell_type": "code",
      "execution_count": 512,
      "metadata": {},
      "outputs": [
        {
          "name": "stdout",
          "output_type": "stream",
          "text": [
            "Archivos de datos descargados y descripción en txt creada.\n"
          ]
        }
      ],
      "source": [
        "# Creando el archivo de texto con descripción general de las fuentes de descargar y parte del proceso ETL\n",
        "\n",
        "# Uniendo elementos de la lista de las fuentes en donde se han descargado los datos (sources_list)\n",
        "texto_list = \"\\n\".join(sources_list)\n",
        "\n",
        "date_now = datetime.now()\n",
        "\n",
        "# Variable que contiene el texto que tendrá el archivo txt que se generará y descargará.\n",
        "description = f\"\"\"\n",
        "Proyecto: contando una historia a través de los datos (análisis de la variabilidad del comportamiento delictivo\n",
        "en relación con factores temporales y geográficos, y su correlación con el desarrollo social y urbano para la prevención del delito)\n",
        "\n",
        "Equipo participante:\n",
        "- Ernesto\n",
        "- Luis Andrés\n",
        "- Mario Estrada Ferreira\n",
        "\n",
        "Descripción de los datos descargados:\n",
        "- Las fuentes fueron descargadas y donde se puede encontrar información adicional en el sitio web: {incidencia_delictiva_link}\n",
        "\n",
        "Fuentes:\n",
        "{texto_list}\n",
        "\n",
        "Fechas de descarga:\n",
        "- El proceso de descarga de los datos se realizó el: {date_now.strftime('%Y-%m-%d %H:%M:%S')}\n",
        "\"\"\"\n",
        "# Se crea el archivo a partir del texto de arriba, el cual se guardará con el nombre descriptivo más la fecha día*mes*año, para identificar la descarga por día.\n",
        "with open(f'fuentes_descripcion{date_now.strftime(\"%d%m%y\")}.txt', 'w') as description_file:\n",
        "    description_file.write(description)\n",
        "\n",
        "print(\"Archivos de datos descargados y descripción en txt creada.\")"
      ]
    }
  ],
  "metadata": {
    "colab": {
      "provenance": []
    },
    "kernelspec": {
      "display_name": "Python 3",
      "name": "python3"
    },
    "language_info": {
      "codemirror_mode": {
        "name": "ipython",
        "version": 3
      },
      "file_extension": ".py",
      "mimetype": "text/x-python",
      "name": "python",
      "nbconvert_exporter": "python",
      "pygments_lexer": "ipython3",
      "version": "3.12.0"
    }
  },
  "nbformat": 4,
  "nbformat_minor": 0
}
